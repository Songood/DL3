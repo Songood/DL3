{
 "cells": [
  {
   "cell_type": "code",
   "execution_count": 1,
   "id": "bc26f90f",
   "metadata": {},
   "outputs": [],
   "source": [
    "import numpy as np\n",
    "from dezero import Variable\n",
    "from dezero.utils import plot_dot_graph"
   ]
  },
  {
   "cell_type": "code",
   "execution_count": null,
   "id": "339c37cb",
   "metadata": {},
   "outputs": [],
   "source": [
    "==30=="
   ]
  },
  {
   "cell_type": "code",
   "execution_count": null,
   "id": "daac6d5c",
   "metadata": {},
   "outputs": [],
   "source": [
    "n차 미분까지 자동으로 계산\n",
    "1. Variable클래스의 __init__메서드\n",
    "data와 grad인스턴스 변수는 각각 순전파와 역전파 계산시 사용\n",
    "모두 ndarray인스턴스를 저장\n",
    "2. Function클래스의 __call__메서드\n",
    "Variable과 Function의 관계가 만들어진다.\n",
    "> 변수에서 함수로의 연결은 set_creator메서드가 만들어준다.\n",
    "연결을 만드는 이유는 미분값을 역방향으로 진행해서"
   ]
  },
  {
   "cell_type": "code",
   "execution_count": null,
   "id": "bf0da330",
   "metadata": {},
   "outputs": [],
   "source": [
    "역전파 로직) Variable클래스의 backward메서드에서 구현\n",
    "Variable의 인스턴스 변수인 grad를 리스트로 모음\n",
    "backward메서드에는 ndarray 인스턴스가 담긴 리스트가 전달됨"
   ]
  },
  {
   "cell_type": "code",
   "execution_count": null,
   "id": "751fe6d3",
   "metadata": {},
   "outputs": [],
   "source": [
    "==31=="
   ]
  },
  {
   "cell_type": "code",
   "execution_count": null,
   "id": "78c548c3",
   "metadata": {},
   "outputs": [],
   "source": [
    "계산 연결은 Function클래스의 __call__메서드에서 만들어진다.\n",
    "순전파와 역전파는 Fuction클래스를 상속한 클래스의 forward와 backward메서드로 처리\n",
    ">>문제점: 역전파를 계산할때는 연결이 만들어지지않는다."
   ]
  },
  {
   "cell_type": "code",
   "execution_count": 1,
   "id": "519958ee",
   "metadata": {},
   "outputs": [],
   "source": [
    "#sin함수의 미분을 구하기 위한 계산 그래프\n",
    "gx.backward()를 호출하여 gx의 x에 대한 미분을 계산 할 수 있다.\n",
    "gx는 y = sin(x)의 미분이기 때문에 gx.backward()를 호출함으로써 x의 2차 미분에 해당.\n",
    "y에서 backward해서 1차 gx에서 backward해서 2차"
   ]
  },
  {
   "cell_type": "code",
   "execution_count": 2,
   "id": "e15ad17e",
   "metadata": {},
   "outputs": [],
   "source": [
    "#순전파 계산연결\n",
    "순전파일때 연결이 만들어짐\n",
    "Variable인스턴스는 input, output 연결\n",
    "ndarray는 계산값\n",
    "sinx를 미분했을때 cosx로 끝내지말고 Variable인스턴스를 사용해서 한번 더 미분하는 -sinx로"
   ]
  },
  {
   "cell_type": "code",
   "execution_count": 3,
   "id": "1a1e0f6a",
   "metadata": {},
   "outputs": [],
   "source": [
    "#sin 클래스의 순전파와 역전파의 계산 그래프\n",
    " Variable 클래스의 grad가 Variable 인스턴스를 참조\n",
    " 미분값을 나타내는 gy가 Variable 인스턴스가 된 덕분에 gy를 사용한 계산에도 연결 만듦\n",
    "sin 클래스에서 backward()메서드 구현시 미분을 계산하는 코드 추가시 gx = gy*cos(x)코드의 변수가 모두 Variable 인스턴스로 변경"
   ]
  },
  {
   "cell_type": "code",
   "execution_count": null,
   "id": "4ada332a",
   "metadata": {},
   "outputs": [],
   "source": [
    "==32=="
   ]
  },
  {
   "cell_type": "code",
   "execution_count": 4,
   "id": "39ed81a5",
   "metadata": {},
   "outputs": [],
   "source": [
    "이제부터 core.py에 구현\n",
    "Variable 클래스의 소스 변경 > 미분값을 자동으로 저장하는 코드에서 self.grad가 Variable인스턴스를 담게됨."
   ]
  },
  {
   "cell_type": "code",
   "execution_count": null,
   "id": "5ebb7333",
   "metadata": {},
   "outputs": [],
   "source": [
    "Add.Mul,Neg,Sub,Div,Pow 클래스의 backward메서드 수정\n",
    "#함수 클래스의 역전파구현\n",
    "add클래스의 역전파가 하는일은 출력쪽에서 전해지는 미분값을 입력 쪽으로 전달\n",
    "mul클래스의 역전파는 gy*x1이 실행되는 뒤편에서 Mul클래스의 순전파가 호출되면서 그때 Function.__call__이 호출되고,그 안에서 그래프가 만들어짐"
   ]
  },
  {
   "cell_type": "code",
   "execution_count": null,
   "id": "e0daeb7a",
   "metadata": {},
   "outputs": [],
   "source": [
    "역전파가 필요없는 경우 비활성모드로 역전파 처리 생략\n",
    "1회만 한다면 비활성모드 실행\n",
    "역전파 처리는 with using_config(...)에서 수행"
   ]
  },
  {
   "cell_type": "code",
   "execution_count": null,
   "id": "751f3e00",
   "metadata": {},
   "outputs": [],
   "source": [
    "==33=="
   ]
  },
  {
   "cell_type": "code",
   "execution_count": null,
   "id": "4448afe0",
   "metadata": {},
   "outputs": [],
   "source": [
    "2차 미분을 수동으로 계산하였지만 새로운 Dezero를 사용하여 2차 미분도 자동으로 수행\n",
    "y = x^4-2x^2 수식 2차 미분 수행\n",
    "gx = x.grad로 y의 x에 대한 미분값을 꺼낸다.\n",
    "잘못된 결과는 1차 미분에 2차 미분결과가 더해진값"
   ]
  },
  {
   "cell_type": "code",
   "execution_count": null,
   "id": "be5b7016",
   "metadata": {},
   "outputs": [],
   "source": [
    "backward메서드를 두번 실행하여 자동으로 계산하도록 수정"
   ]
  },
  {
   "cell_type": "code",
   "execution_count": 2,
   "id": "6368a950",
   "metadata": {},
   "outputs": [],
   "source": [
    "def f(x):\n",
    "    y = x ** 4 - 2 * x ** 2\n",
    "    return y"
   ]
  },
  {
   "cell_type": "code",
   "execution_count": 3,
   "id": "49ccd73a",
   "metadata": {},
   "outputs": [
    {
     "name": "stdout",
     "output_type": "stream",
     "text": [
      "variable(24.0)\n",
      "variable(68.0)\n"
     ]
    }
   ],
   "source": [
    "x = Variable(np.array(2.0))\n",
    "y = f(x)\n",
    "y.backward(create_graph=True)\n",
    "print(x.grad)\n",
    "\n",
    "gx = x.grad\n",
    "gx.backward()\n",
    "print(x.grad)"
   ]
  },
  {
   "cell_type": "code",
   "execution_count": 4,
   "id": "de6ff603",
   "metadata": {},
   "outputs": [
    {
     "name": "stdout",
     "output_type": "stream",
     "text": [
      "variable(24.0)\n",
      "variable(44.0)\n"
     ]
    }
   ],
   "source": [
    "x = Variable(np.array(2.0))\n",
    "y = f(x)\n",
    "y.backward(create_graph=True)\n",
    "print(x.grad)\n",
    "\n",
    "gx = x.grad\n",
    "x.cleargrad()\n",
    "gx.backward()\n",
    "print(x.grad)"
   ]
  },
  {
   "cell_type": "code",
   "execution_count": 5,
   "id": "8b5973ba",
   "metadata": {},
   "outputs": [],
   "source": [
    "x = Variable(np.array(2.0))\n",
    "iters = 10"
   ]
  },
  {
   "cell_type": "code",
   "execution_count": 6,
   "id": "a21311ce",
   "metadata": {},
   "outputs": [
    {
     "name": "stdout",
     "output_type": "stream",
     "text": [
      "0 variable(2.0)\n",
      "1 variable(1.4545454545454546)\n",
      "2 variable(1.1510467893775467)\n",
      "3 variable(1.0253259289766978)\n",
      "4 variable(1.0009084519430513)\n",
      "5 variable(1.0000012353089454)\n",
      "6 variable(1.000000000002289)\n",
      "7 variable(1.0)\n",
      "8 variable(1.0)\n",
      "9 variable(1.0)\n"
     ]
    }
   ],
   "source": [
    "for i in range(iters):\n",
    "    print(i, x)\n",
    "\n",
    "    y = f(x)\n",
    "    x.cleargrad()\n",
    "    y.backward(create_graph=True)\n",
    "\n",
    "    gx = x.grad\n",
    "    x.cleargrad()\n",
    "    gx.backward()\n",
    "    gx2 = x.grad\n",
    "\n",
    "    x.data -= gx.data / gx2.data"
   ]
  },
  {
   "cell_type": "code",
   "execution_count": null,
   "id": "241fc2f8",
   "metadata": {},
   "outputs": [],
   "source": [
    "==34=="
   ]
  },
  {
   "cell_type": "code",
   "execution_count": null,
   "id": "c348c79f",
   "metadata": {},
   "outputs": [],
   "source": [
    "새로운 Dezero함수 추가"
   ]
  },
  {
   "cell_type": "code",
   "execution_count": null,
   "id": "2889d19f",
   "metadata": {},
   "outputs": [],
   "source": [
    "고차 미분에 대응하는 새로운 Sin클래스 구현\n",
    "gx = gy*cos(x)는 Dezero의 cos함수\n",
    "gy*cos(x)에는 곱셈 연산자를 오버로드해 놓았기때문에 mul함수가 호출됨"
   ]
  },
  {
   "cell_type": "code",
   "execution_count": null,
   "id": "f0034527",
   "metadata": {},
   "outputs": [],
   "source": [
    "새로운 Cos클래스와 cos함수 구현\n",
    "backward메서드에서 구체적인 계산에서 sin함수를 사용"
   ]
  },
  {
   "cell_type": "code",
   "execution_count": null,
   "id": "da5b0679",
   "metadata": {},
   "outputs": [],
   "source": [
    "#sin함수 고차 미분\n",
    "2,3,4차 미분도 계산\n",
    "for문으로 역전파 반복 > n차 미분 구함\n",
    "역전파를 하기전에 x.cleargrad()를 호출하여 미분값을 재설정"
   ]
  },
  {
   "cell_type": "code",
   "execution_count": null,
   "id": "31f24cfb",
   "metadata": {},
   "outputs": [],
   "source": [
    "다차원 배열을 입력 받으면 각 원소에 대해 독립적으로 계산함\n",
    "한 번의 순전파로 원소 200개의 계산이 모두 이뤄진다."
   ]
  },
  {
   "cell_type": "code",
   "execution_count": 15,
   "id": "40792bf0",
   "metadata": {},
   "outputs": [],
   "source": [
    "import dezero.functions as F\n",
    "import matplotlib.pyplot as plt"
   ]
  },
  {
   "cell_type": "code",
   "execution_count": 8,
   "id": "1690ca38",
   "metadata": {},
   "outputs": [],
   "source": [
    "x = Variable(np.linspace(-7, 7, 200)) #-7부터 7까지 200등분한 배열을 만들어준다\n",
    "y = F.sin(x)\n",
    "y.backward(create_graph=True)"
   ]
  },
  {
   "cell_type": "code",
   "execution_count": 12,
   "id": "7e952ba6",
   "metadata": {},
   "outputs": [],
   "source": [
    "logs = [y.data]"
   ]
  },
  {
   "cell_type": "code",
   "execution_count": 13,
   "id": "0ba42722",
   "metadata": {},
   "outputs": [],
   "source": [
    "for i in range(3):\n",
    "    logs.append(x.grad.data)\n",
    "    gx = x.grad\n",
    "    x.cleargrad()\n",
    "    gx.backward(create_graph=True)"
   ]
  },
  {
   "cell_type": "code",
   "execution_count": 16,
   "id": "9b2dbeeb",
   "metadata": {},
   "outputs": [
    {
     "data": {
      "image/png": "[encoded data removed]",
      "text/plain": [
       "<Figure size 640x480 with 1 Axes>"
      ]
     },
     "metadata": {},
     "output_type": "display_data"
    }
   ],
   "source": [
    "labels = [\"y=sin(x)\", \"y'\", \"y''\", \"y'''\"]\n",
    "for i, v in enumerate(logs):\n",
    "    plt.plot(x.data, logs[i], label=labels[i])\n",
    "plt.legend(loc='lower right')\n",
    "plt.show()\n",
    "#파도모양위상이 어긋난 함수"
   ]
  },
  {
   "cell_type": "code",
   "execution_count": null,
   "id": "7a059300",
   "metadata": {},
   "outputs": [],
   "source": [
    "==35=="
   ]
  },
  {
   "cell_type": "code",
   "execution_count": null,
   "id": "f3856b27",
   "metadata": {},
   "outputs": [],
   "source": [
    "tanh(x)=e^x-e^-e / e^x+e^-x\n",
    "입력을 -1~1사이의 값으로 변환\n",
    "\n",
    "(tanh(x))'= 1-y^2\n",
    "\n",
    "순전파는 np.tanh메서드를 이용\n",
    "역전파는 gy*(1-y*y)형태로 구현"
   ]
  },
  {
   "cell_type": "code",
   "execution_count": null,
   "id": "6cac846b",
   "metadata": {},
   "outputs": [],
   "source": [
    "for문에서 반복해서 역전파함으로 고차미분을 계산\n",
    "iters = 0이면 1차 미분, 1이면 2차 미분이 계산되는 방식"
   ]
  },
  {
   "cell_type": "code",
   "execution_count": 17,
   "id": "cc35063e",
   "metadata": {},
   "outputs": [],
   "source": [
    "x = Variable(np.array(1.0))\n",
    "y = F.tanh(x)\n",
    "x.name = 'x'\n",
    "y.name = 'y'\n",
    "y.backward(create_graph=True)"
   ]
  },
  {
   "cell_type": "code",
   "execution_count": 18,
   "id": "357fd0e0",
   "metadata": {},
   "outputs": [],
   "source": [
    "iters = 1"
   ]
  },
  {
   "cell_type": "code",
   "execution_count": 19,
   "id": "1b6dd863",
   "metadata": {},
   "outputs": [],
   "source": [
    "for i in range(iters):\n",
    "    gx = x.grad\n",
    "    x.cleargrad()\n",
    "    gx.backward(create_graph=True)"
   ]
  },
  {
   "cell_type": "code",
   "execution_count": 20,
   "id": "5663899b",
   "metadata": {},
   "outputs": [],
   "source": [
    "gx = x.grad\n",
    "gx.name = 'gx' + str(iters + 1)\n",
    "plot_dot_graph(gx, verbose=False, to_file='tanh.png')"
   ]
  },
  {
   "cell_type": "code",
   "execution_count": null,
   "id": "2bb287aa",
   "metadata": {},
   "outputs": [],
   "source": [
    "==36=="
   ]
  },
  {
   "cell_type": "code",
   "execution_count": null,
   "id": "9ec9588b",
   "metadata": {},
   "outputs": [],
   "source": [
    "고차 미분을 하기 위해 역전파 수행되는 계산에 대해서도 연결을 만듦\n",
    "\n",
    "#Double Backpropagation\n",
    "역전파로 수행한 계산에 대해 다시 역전파수행\n",
    "\n",
    "#double backprop활용\n",
    "미분이 포함된 식에서 다시 한번 미분 수행\n",
    "y'=2x , z=(y')^3 + y =8x^3 +x^2\n",
    "z' = 24x^2 + 2x\n",
    "a,b가 정수일 때 f(x0,x1) = b(x1-x0^2)^2+(a-x0)^2\n",
    "\n",
    "#WGAN-GP논문\n",
    "최적화하는 식에 기울기가 들어있다.\n",
    "> 첫번째 역전파를 구할 수 있다\n",
    "> 함수 L을 계산하고 최적화하기위해 두번째 역전파 수행"
   ]
  },
  {
   "cell_type": "code",
   "execution_count": 21,
   "id": "5666a76c",
   "metadata": {},
   "outputs": [],
   "source": [
    "x = Variable(np.array(2.0))\n",
    "y = x ** 2\n",
    "y.backward(create_graph=True)\n",
    "gx = x.grad\n",
    "x.cleargrad()"
   ]
  },
  {
   "cell_type": "code",
   "execution_count": 22,
   "id": "af2d51df",
   "metadata": {},
   "outputs": [
    {
     "name": "stdout",
     "output_type": "stream",
     "text": [
      "variable(100.0)\n"
     ]
    }
   ],
   "source": [
    "z = gx ** 3 + y\n",
    "z.backward()\n",
    "print(x.grad)"
   ]
  }
 ],
 "metadata": {
  "kernelspec": {
   "display_name": "Python 3 (ipykernel)",
   "language": "python",
   "name": "python3"
  },
  "language_info": {
   "codemirror_mode": {
    "name": "ipython",
    "version": 3
   },
   "file_extension": ".py",
   "mimetype": "text/x-python",
   "name": "python",
   "nbconvert_exporter": "python",
   "pygments_lexer": "ipython3",
   "version": "3.11.5"
  }
 },
 "nbformat": 4,
 "nbformat_minor": 5
}
