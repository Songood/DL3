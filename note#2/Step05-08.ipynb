{
 "cells": [
  {
   "cell_type": "code",
   "execution_count": 1,
   "id": "75e768af",
   "metadata": {},
   "outputs": [],
   "source": [
    "import numpy as np\n",
    "import pandas as pd\n",
    "#pip install pycham\n",
    " \n",
    "class Variable:\n",
    "    def __init__(self, data):\n",
    "        self.data = data"
   ]
  },
  {
   "cell_type": "code",
   "execution_count": 2,
   "id": "1fe9f770",
   "metadata": {},
   "outputs": [
    {
     "name": "stdout",
     "output_type": "stream",
     "text": [
      "1.0\n",
      "<__main__.Variable object at 0x000002137732DE10>\n"
     ]
    },
    {
     "data": {
      "text/plain": [
       "array(1.)"
      ]
     },
     "execution_count": 2,
     "metadata": {},
     "output_type": "execute_result"
    }
   ],
   "source": [
    "data = np.array(1.0)\n",
    "x = Variable(data)\n",
    "\n",
    "print(x.data)\n",
    "print(x)\n",
    "x.data"
   ]
  },
  {
   "cell_type": "code",
   "execution_count": 3,
   "id": "e010c972",
   "metadata": {},
   "outputs": [],
   "source": [
    "class Fuction:\n",
    "  def __call__(self, input):\n",
    "    x = input.data\n",
    "    y = x**2\n",
    "    output = Variable(y)\n",
    "    return output"
   ]
  },
  {
   "cell_type": "code",
   "execution_count": 4,
   "id": "e6402af7",
   "metadata": {},
   "outputs": [
    {
     "name": "stdout",
     "output_type": "stream",
     "text": [
      "<class '__main__.Variable'>\n",
      "100\n"
     ]
    }
   ],
   "source": [
    "x = Variable(np.array(10))\n",
    "f = Fuction()\n",
    "y = f(x)\n",
    "\n",
    "print(type(y))\n",
    "print(y.data)"
   ]
  },
  {
   "cell_type": "code",
   "execution_count": 5,
   "id": "e35e1320",
   "metadata": {},
   "outputs": [],
   "source": [
    "class Function:\n",
    "  def __call__(self,input):\n",
    "    x = input.data\n",
    "    y = self.forward(x)\n",
    "    output = Variable(y)\n",
    "    return output\n",
    "\n",
    "  def forward(self, in_data):\n",
    "    raise NotImplementedError()\n",
    "\n",
    "class Square(Function):\n",
    "  def forward(self, x):\n",
    "    return x **2\n",
    "\n",
    "class Exp(Function):\n",
    "  def forward(self, x):\n",
    "    return np.exp(x)"
   ]
  },
  {
   "cell_type": "code",
   "execution_count": 6,
   "id": "5e42ef39",
   "metadata": {},
   "outputs": [
    {
     "name": "stdout",
     "output_type": "stream",
     "text": [
      "4.000000000004\n"
     ]
    }
   ],
   "source": [
    "def numerical_diff(f,x,eps=1e-4):\n",
    "  x0 = Variable(x.data - eps)\n",
    "  x1 = Variable(x.data + eps)\n",
    "  y0 = f(x0)\n",
    "  y1 = f(x1)\n",
    "  return (y1.data-y0.data) / (2*eps)\n",
    "\n",
    "f = Square()\n",
    "x = Variable(np.array(2))\n",
    "dy = numerical_diff(f,x)\n",
    "print(dy)"
   ]
  },
  {
   "cell_type": "code",
   "execution_count": 8,
   "id": "777367cf",
   "metadata": {},
   "outputs": [
    {
     "name": "stdout",
     "output_type": "stream",
     "text": [
      "3.2974426293330694\n"
     ]
    }
   ],
   "source": [
    "def f(x):\n",
    "  A = Square()\n",
    "  B = Exp()\n",
    "  C = Square()\n",
    "  return C(B(A(x)))\n",
    "\n",
    "x = Variable(np.array(0.5))\n",
    "dy = numerical_diff(f,x)\n",
    "print(dy)\n"
   ]
  },
  {
   "cell_type": "code",
   "execution_count": null,
   "id": "bdfd0b2d",
   "metadata": {},
   "outputs": [],
   "source": [
    " # (x+e)^2 - (x-e)^2 / 2e"
   ]
  },
  {
   "cell_type": "code",
   "execution_count": null,
   "id": "9af226fb",
   "metadata": {},
   "outputs": [],
   "source": [
    "#역전파(back propagation, 오차역적파법)\n",
    "Input layer\n",
    "\n",
    "Hidden layer1\n",
    "\n",
    "Hidden layer2\n",
    "\n",
    "Output layer"
   ]
  },
  {
   "cell_type": "code",
   "execution_count": 9,
   "id": "570604fc",
   "metadata": {},
   "outputs": [],
   "source": [
    "# 기울기\n",
    "class Variable:\n",
    "  def __init__(self, data):\n",
    "    self.data = data\n",
    "    self.grad = None\n",
    "    self.creator = None\n",
    "\n",
    "  def set_creator(self, func):\n",
    "    self.creator = func\n",
    "\n",
    "  def backward(self):\n",
    "    # funcs = [self.creator]\n",
    "    # while funcs:\n",
    "    #   f = funcs.pop()\n",
    "    #   x, y = f.input, f.output\n",
    "    #   x.grad = f.backward(y.grad)\n",
    "\n",
    "    #   if x.creator is not None:\n",
    "    #     funcs.append(x.creator)\n",
    "    f = self.creator\n",
    "    if f is not None:\n",
    "      x = f.input\n",
    "      x.grad = f.backward(self.grad)\n",
    "      x.backward()\n",
    "\n",
    "class Function:\n",
    "  def __call__(self, input):\n",
    "    x = input.data\n",
    "    y = self.forward(x)\n",
    "    output = Variable(y)\n",
    "    self.input = input\n",
    "    return output\n",
    "\n",
    "  # 순전파\n",
    "  def forward(self, x):\n",
    "    raise NotImplementedError()\n",
    "\n",
    "  # 역전파\n",
    "  def backward(self, gy):\n",
    "    raise NotImplementedError()\n"
   ]
  },
  {
   "cell_type": "code",
   "execution_count": 10,
   "id": "1580028b",
   "metadata": {},
   "outputs": [],
   "source": [
    "class Square(Function):\n",
    "  def forward(self, x):\n",
    "    y = x ** 2\n",
    "    return y\n",
    "\n",
    "  def backward(self, gy):\n",
    "    x = self.input.data\n",
    "    gx = 2 * x * gy\n",
    "    return gx\n",
    "\n",
    "class Exp(Function):\n",
    "  def forward(self, x):\n",
    "    return np.exp(x)\n",
    "\n",
    "  def backward(self, gy):\n",
    "    x = self.input.data\n",
    "    gx = np.exp(x) * gy\n",
    "    return gx"
   ]
  },
  {
   "cell_type": "code",
   "execution_count": 11,
   "id": "64bccb95",
   "metadata": {},
   "outputs": [],
   "source": [
    "A = Square()\n",
    "B = Exp()\n",
    "C = Square()\n",
    "\n",
    "x = Variable(np.array(0.5))\n",
    "a = A(x)\n",
    "b = B(a)\n",
    "y = C(b)"
   ]
  },
  {
   "cell_type": "code",
   "execution_count": 12,
   "id": "a6d09e3b",
   "metadata": {
    "scrolled": true
   },
   "outputs": [
    {
     "name": "stdout",
     "output_type": "stream",
     "text": [
      "3.297442541400256\n"
     ]
    }
   ],
   "source": [
    "y.grad = np.array(1.0)\n",
    "b.grad = C.backward(y.grad)\n",
    "a.grad = B.backward(b.grad)\n",
    "x. grad = A.backward(a.grad)\n",
    "print(x.grad)"
   ]
  },
  {
   "cell_type": "code",
   "execution_count": 14,
   "id": "a06bbf25",
   "metadata": {
    "scrolled": false
   },
   "outputs": [
    {
     "ename": "AttributeError",
     "evalue": "'NoneType' object has no attribute 'input'",
     "output_type": "error",
     "traceback": [
      "\u001b[1;31m---------------------------------------------------------------------------\u001b[0m",
      "\u001b[1;31mAttributeError\u001b[0m                            Traceback (most recent call last)",
      "Cell \u001b[1;32mIn[14], line 4\u001b[0m\n\u001b[0;32m      1\u001b[0m y\u001b[38;5;241m.\u001b[39mgrad \u001b[38;5;241m=\u001b[39m np\u001b[38;5;241m.\u001b[39marray(\u001b[38;5;241m1.0\u001b[39m)\n\u001b[0;32m      3\u001b[0m C \u001b[38;5;241m=\u001b[39m y\u001b[38;5;241m.\u001b[39mcreator \u001b[38;5;66;03m#1.함수를 가져온다.\u001b[39;00m\n\u001b[1;32m----> 4\u001b[0m b \u001b[38;5;241m=\u001b[39m C\u001b[38;5;241m.\u001b[39minput \u001b[38;5;66;03m#2. 함수의 입력을 가져온다.\u001b[39;00m\n\u001b[0;32m      5\u001b[0m b\u001b[38;5;241m.\u001b[39mgrad \u001b[38;5;241m=\u001b[39m C\u001b[38;5;241m.\u001b[39mbackward(y\u001b[38;5;241m.\u001b[39mgrad) \u001b[38;5;66;03m#3.함수의 backward메서드를 호출한다.\u001b[39;00m\n\u001b[0;32m      7\u001b[0m B \u001b[38;5;241m=\u001b[39m b\u001b[38;5;241m.\u001b[39mcreator \u001b[38;5;66;03m#1.함수를 가져온다.\u001b[39;00m\n",
      "\u001b[1;31mAttributeError\u001b[0m: 'NoneType' object has no attribute 'input'"
     ]
    }
   ],
   "source": [
    "y.grad = np.array(1.0)\n",
    "\n",
    "C = y.creator #1.함수를 가져온다.\n",
    "b = C.input #2. 함수의 입력을 가져온다.\n",
    "b.grad = C.backward(y.grad) #3.함수의 backward메서드를 호출한다.\n",
    "\n",
    "B = b.creator #1.함수를 가져온다.\n",
    "a = B.input #2. 함수의 입력을 가져온다.\n",
    "a.grad = B.backward(b.grad) #3.함수의 backward 메서드를 호출한다.\n",
    "\n",
    "A = a.creator #1.함수를 가져온다.\n",
    "x = A.input #2. 함수의 입력을 가져온다.\n",
    "x.grad = A.backward(a.grad) #3.함수의 backward 메서드를 호출한다.\n",
    "print(x.grad)"
   ]
  }
 ],
 "metadata": {
  "kernelspec": {
   "display_name": "Python 3 (ipykernel)",
   "language": "python",
   "name": "python3"
  },
  "language_info": {
   "codemirror_mode": {
    "name": "ipython",
    "version": 3
   },
   "file_extension": ".py",
   "mimetype": "text/x-python",
   "name": "python",
   "nbconvert_exporter": "python",
   "pygments_lexer": "ipython3",
   "version": "3.11.5"
  }
 },
 "nbformat": 4,
 "nbformat_minor": 5
}
