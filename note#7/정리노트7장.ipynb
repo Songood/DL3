{
 "cells": [
  {
   "cell_type": "markdown",
   "id": "c0f50f06",
   "metadata": {},
   "source": [
    "신경망 만들기"
   ]
  },
  {
   "cell_type": "markdown",
   "id": "976bf94a",
   "metadata": {},
   "source": [
    "==37=="
   ]
  },
  {
   "cell_type": "markdown",
   "id": "e7aa7e45",
   "metadata": {},
   "source": [
    "Dezero에서 구현한 함수들은 입력과 출력이 모두 스칼라라고 가정했음"
   ]
  },
  {
   "cell_type": "markdown",
   "id": "7454af75",
   "metadata": {},
   "source": [
    "텐서처리) x가 텐서일 경우 - sin함수가 원소별로 적용됨.\n",
    "입력과 출력텐서의 형상은 바뀌지않는다."
   ]
  },
  {
   "cell_type": "markdown",
   "id": "00edeaf5",
   "metadata": {},
   "source": [
    "역전파를 할때 텐서를 이용해도 문제없이 동작을 했음.\n",
    "텐서가 입력으로 들어가서 sum이란 함수로 하나의 스칼라값이 된다.\n",
    "스칼라 값을 역전파하여 다시 정상적으로 동작을 하나 살펴봐야함."
   ]
  },
  {
   "cell_type": "markdown",
   "id": "b4618f48",
   "metadata": {},
   "source": [
    "마지막 출력이 스칼라인 계산 그래프에 대한 역전파\n",
    "*y.backward(retain_grad=True)를 실행하면 각 변수의 미분값이 구해진다.\n",
    "*기울기의 형상과 순전파 때의 데이터의 형상이 일치"
   ]
  },
  {
   "cell_type": "code",
   "execution_count": 13,
   "id": "2cf961e4",
   "metadata": {},
   "outputs": [],
   "source": [
    "import numpy as np\n",
    "import dezero.functions as F\n",
    "from dezero import Variable\n",
    "from dezero.core import Function"
   ]
  },
  {
   "cell_type": "code",
   "execution_count": 4,
   "id": "f5dd80b6",
   "metadata": {},
   "outputs": [
    {
     "name": "stdout",
     "output_type": "stream",
     "text": [
      "variable(0.8414709848078965)\n"
     ]
    }
   ],
   "source": [
    "x =  Variable(np.array(1.0))\n",
    "y = F.sin(x)\n",
    "print(y)"
   ]
  },
  {
   "cell_type": "code",
   "execution_count": 5,
   "id": "28776c63",
   "metadata": {},
   "outputs": [
    {
     "name": "stdout",
     "output_type": "stream",
     "text": [
      "variable([[ 0.84147098  0.90929743  0.14112001]\n",
      "          [-0.7568025  -0.95892427 -0.2794155 ]])\n"
     ]
    }
   ],
   "source": [
    "x = Variable(np.array([[1,2,3],[4,5,6]]))\n",
    "y = F.sin(x)\n",
    "print(y)"
   ]
  },
  {
   "cell_type": "code",
   "execution_count": 6,
   "id": "723d3dbc",
   "metadata": {},
   "outputs": [
    {
     "name": "stdout",
     "output_type": "stream",
     "text": [
      "variable([[11 22 33]\n",
      "          [44 55 66]])\n"
     ]
    }
   ],
   "source": [
    "x = Variable(np.array([[1,2,3],[4,5,6]]))\n",
    "c = Variable(np.array([[10,20,30],[40,50,60]]))\n",
    "y = x+c #sum을 취함\n",
    "print(y) #하나의 스칼라값"
   ]
  },
  {
   "cell_type": "code",
   "execution_count": 7,
   "id": "667fa6cc",
   "metadata": {},
   "outputs": [],
   "source": [
    "x = Variable(np.array([[1,2,3],[4,5,6]]))\n",
    "c = Variable(np.array([[10,20,30],[40,50,60]]))\n",
    "t =  x + c\n",
    "y  =F.sum(t)"
   ]
  },
  {
   "cell_type": "code",
   "execution_count": 8,
   "id": "697fa519",
   "metadata": {},
   "outputs": [
    {
     "name": "stdout",
     "output_type": "stream",
     "text": [
      "variable(1)\n",
      "variable([[1 1 1]\n",
      "          [1 1 1]])\n",
      "variable([[1 1 1]\n",
      "          [1 1 1]])\n",
      "variable([[1 1 1]\n",
      "          [1 1 1]])\n"
     ]
    }
   ],
   "source": [
    "y.backward(retain_grad=True)\n",
    "print(y.grad)\n",
    "print(t.grad)\n",
    "print(x.grad)\n",
    "print(c.grad)"
   ]
  },
  {
   "cell_type": "markdown",
   "id": "431fb417",
   "metadata": {},
   "source": [
    "==38=="
   ]
  },
  {
   "cell_type": "markdown",
   "id": "fc159bac",
   "metadata": {},
   "source": [
    "문제가 발생. \n",
    "텐서를 사용한 계산에서의 역전파> 텐서를 입력해도 역전파가 올바르게 성립을 함.\n",
    "원소별로 계산하지않는 함수\n",
    "1. reshape함수(텐서의 형상을 변환)\n",
    "2. transpose함수(행렬을 전치하는)\n",
    "3. 두함수 모두 텐서의 형상을 바꾸는 함수"
   ]
  },
  {
   "cell_type": "code",
   "execution_count": null,
   "id": "8ffc936e",
   "metadata": {},
   "outputs": [],
   "source": [
    "텐서의 형상을 바꾸는 함수인 reshape함수를 사용한다.\n",
    "텐서의 원소 수는 같고 형상만 변환한다.\n",
    "-reshape 역전파를 구현\n",
    "기울기의 형상이 입력의 형상과 같아지도록 변환.\n",
    "기울기를 x,data.shape와 x.grad.shape가 일치하도록 변환."
   ]
  },
  {
   "cell_type": "markdown",
   "id": "f02dfd63",
   "metadata": {},
   "source": [
    "reshape함수를 사용하여 형상을 변환시키고 y.backward(retain_grad=True)를 수행하여 x의 기울기를 구함\n",
    "y의 기울기도 자동으로 채워짐 > 이 형상은 y와 같다.\n",
    "원소는 모두 1로 이루어진 텐서.\n",
    "\n",
    "입력값을 기억해놨다가 역전파일때 입력값을 reshape을 해주어서 역전파가 가능한것."
   ]
  },
  {
   "cell_type": "code",
   "execution_count": 9,
   "id": "afd89389",
   "metadata": {},
   "outputs": [
    {
     "name": "stdout",
     "output_type": "stream",
     "text": [
      "[1 2 3 4 5 6]\n"
     ]
    }
   ],
   "source": [
    "x = np.array([[1,2,3],[4,5,6]])\n",
    "y = np.reshape(x,(6,))\n",
    "print(y)"
   ]
  },
  {
   "cell_type": "code",
   "execution_count": 14,
   "id": "ea8f7966",
   "metadata": {},
   "outputs": [],
   "source": [
    "class Reshape(Function):\n",
    "    def __init__(self, shape):\n",
    "        self.shape = shape\n",
    "\n",
    "    def forward(self, x):\n",
    "        self.x_shape = x.shape #입력변수 쪽의 형상에 맞게 변환\n",
    "        y = x.reshape(self.shape)\n",
    "        return y\n",
    "\n",
    "    def backward(self, gy): #grad값을 넣어주면 (2,3)텐서로 바뀐다. (역전파의 기능)\n",
    "        return reshape(gy, self.x_shape) \n",
    "\n",
    "def reshape(x, shape):\n",
    "    if x.shape == shape:\n",
    "        return as_variable(x)\n",
    "    return Reshape(shape)(x)"
   ]
  },
  {
   "cell_type": "code",
   "execution_count": 15,
   "id": "1abac4ae",
   "metadata": {},
   "outputs": [],
   "source": [
    "def reshape(x, shape):\n",
    "    if x.shape == shape:\n",
    "        return as_variable(x)\n",
    "    return Reshape(shape)(x)"
   ]
  },
  {
   "cell_type": "markdown",
   "id": "91185f2d",
   "metadata": {},
   "source": [
    "def reshape(self, *shape):\n",
    "    if len(shape) == 1 and isinstance(shape[0], (tuple, list)):\n",
    "        shape = shape[0]\n",
    "    return dezero.functions.reshape(self, shape) 과 비슷하게 만드는것.\n",
    "    \n",
    "Varible클래스에 가변 인수를 받는 reshape메서드를 추가하고 \n",
    "reshape함수를 Variable인스턴스의 메서드 형태로 호출을 한다."
   ]
  },
  {
   "cell_type": "code",
   "execution_count": 16,
   "id": "3ff0d877",
   "metadata": {},
   "outputs": [],
   "source": [
    "x =  np.random.rand(1,2,3)\n",
    "\n",
    "y = x.reshape((2,3)) #튜플로 받기\n",
    "y = x.reshape([2,3]) #리스트로 받기\n",
    "y = x.reshape(2,3) #인수를 그대로(풀어서) 받기"
   ]
  },
  {
   "cell_type": "markdown",
   "id": "a7e1203b",
   "metadata": {},
   "source": [
    ">>reshape 함수 총정리\n",
    "\n",
    "Dezero용 reshape을 보면 class forward, backward를 구현하고 forward에 입력한 값을 기억하여서 reshape하여 입력과 똑같이 만들어준다.\n",
    "(2,3)->(6,)로 변환\n",
    "넘파이의 reshape은 튜플,리스트, 인수를 그대로 풀어서 받는다.\n",
    "Dezero의 reshape도 같은걸 받기 위해서 class Reshape을 Variable클래스에 넣는다.\n",
    "def reshape이란 함수가 저장된 dezero.functions"
   ]
  },
  {
   "cell_type": "markdown",
   "id": "e82b54c3",
   "metadata": {},
   "source": [
    "행렬을 전치해주는 함수를 구현\n",
    "(2,3)^T를 하면 (3,2)로 전치가 된다."
   ]
  },
  {
   "cell_type": "code",
   "execution_count": 17,
   "id": "6f3166a6",
   "metadata": {},
   "outputs": [
    {
     "name": "stdout",
     "output_type": "stream",
     "text": [
      "[[1 4]\n",
      " [2 5]\n",
      " [3 6]]\n"
     ]
    }
   ],
   "source": [
    "x = np.array([[1,2,3],[4,5,6]])\n",
    "y = np.transpose(x)\n",
    "print(y)"
   ]
  },
  {
   "cell_type": "markdown",
   "id": "23505bb6",
   "metadata": {},
   "source": [
    "dezero에서도 전치가 가능하게끔 구현해보자."
   ]
  },
  {
   "cell_type": "markdown",
   "id": "484bae2d",
   "metadata": {},
   "source": [
    "*numpy의 전치\n",
    "텐서의 원소 자체는 그대로이고 형상만 바뀐다.\n",
    "역전파에서는 출력 쪽에서 전해지는 기울기의 형상만 변경한다.\n",
    "순전파 때와는 정확히 반대형태!\n",
    "\n",
    "backward(self,gy)가 있다면 return 2x*gy를 예전에 했었다.\n",
    "하지만 이와 같은 전치경우에는 형상만 바뀐다!! \n",
    "출력의 gy를 그대로 받고 입력시에 받은 reshape을 그대로 받고 있다가 다시 resahpe을 해서 형상이 복원이 되었다.\n"
   ]
  },
  {
   "cell_type": "code",
   "execution_count": 18,
   "id": "fd50ba21",
   "metadata": {},
   "outputs": [],
   "source": [
    "class Transpose(Function):\n",
    "    def forward(self,x):\n",
    "        y = np.transpose(x)\n",
    "        return y\n",
    "    def backward(self,gy):\n",
    "        gx = transpose(gy)\n",
    "        return gx\n",
    "def transpose(x):\n",
    "    return Transpose()(x)"
   ]
  },
  {
   "cell_type": "code",
   "execution_count": 19,
   "id": "5f702615",
   "metadata": {},
   "outputs": [
    {
     "name": "stdout",
     "output_type": "stream",
     "text": [
      "variable([[1 1 1]\n",
      "          [1 1 1]])\n"
     ]
    }
   ],
   "source": [
    "x = Variable(np.array([[1,2,3],[4,5,6]]))\n",
    "y = F.transpose(x)\n",
    "y.backward()\n",
    "print(x.grad)"
   ]
  },
  {
   "cell_type": "code",
   "execution_count": 24,
   "id": "5f040443",
   "metadata": {},
   "outputs": [],
   "source": [
    "x =  Variable(np.random.rand(1,2,3))\n",
    "y = x.reshape((2,3))\n",
    "y = x.reshape(2,3)"
   ]
  },
  {
   "cell_type": "markdown",
   "id": "010a48fc",
   "metadata": {},
   "source": [
    "축!\n",
    "np.transpose함수의 범용적 사용\n",
    "A, B, C, D = 1, 2,3,4\n",
    "x = np.random.rand(A,B,C,D)\n",
    "y = x.transpose(1,0,3,2)\n",
    "\n",
    "축의 순서를 지정> 데이터의 축이 달라진다.\n",
    "인수를 None으로 주면 축이 역순으로 정렬"
   ]
  },
  {
   "cell_type": "markdown",
   "id": "169f06fa",
   "metadata": {},
   "source": [
    "==39=="
   ]
  },
  {
   "cell_type": "markdown",
   "id": "5bad65d3",
   "metadata": {},
   "source": [
    "Dezero에 합계를 구하는 함수 sum추가\n",
    "-덧셈의 미분\n",
    "-sum 함수의 미분을 이끌어낸다.\n",
    "-sum 함수 구현"
   ]
  },
  {
   "cell_type": "markdown",
   "id": "4535f8ef",
   "metadata": {},
   "source": [
    "덧셈의 미분 > y = x0+x1일때 y'(x0으로 미분)=1 , y'(x1로 미분)=1\n",
    "역전파는 출력 쪽에서 전해지는 기울기를 그대로 입력 쪽으로 흘려보낸다.\n",
    "\n",
    "덧셈을 수행한 후 변수y로 부터 역전파한다."
   ]
  },
  {
   "cell_type": "markdown",
   "id": "f68b416b",
   "metadata": {},
   "source": [
    "*원소가 2개로 구성된 벡터 합의 역전파\n",
    "벡터에 sum함수를 적용하면 스칼라를 출력\n",
    "\n",
    "*원소가 2개 이상인 벡터의 합에 대한 역전파\n",
    "기울기 벡터의 원소 수만큼 복사하면 되는데 기울기를 입력 변수의 형상과 같아지도록 복사\n",
    "입력 변수가 2차원 이상의 배열일 때도 동일하게 적용"
   ]
  },
  {
   "cell_type": "markdown",
   "id": "158d8da4",
   "metadata": {},
   "source": [
    "*Dezero의 Sum클래스와 sum함수 구현\n",
    "sum함수 역전파에서는 입력 변수의 형상과 같아지게 기울기의 원소를 복사\n",
    "입력형상을 갖고있는걸 브로드캐스트했다가 복원을 했다."
   ]
  },
  {
   "cell_type": "markdown",
   "id": "f8c3f0e1",
   "metadata": {},
   "source": [
    "class Sum(Function):\n",
    "     def forward(self, x):\n",
    "        self.x_shape = x.shape\n",
    "        y = x.sum()\n",
    "        return y\n",
    "\n",
    "     def backward(self, gy):\n",
    "        gx = broadcast_to(gy, self.x_shape)\n",
    "        return gx\n",
    "def sum(x):\n",
    "    return Sum()(x)\n",
    "\n",
    "sum을 하여 21이 되었는데 복원을 해야하는 과정에서 broadcast에 x.shape을 넣었더니 기울기 gy의 원소를 복사"
   ]
  },
  {
   "cell_type": "code",
   "execution_count": 28,
   "id": "13849f17",
   "metadata": {},
   "outputs": [
    {
     "name": "stdout",
     "output_type": "stream",
     "text": [
      "variable(21)\n",
      "variable([1 1 1 1 1 1])\n"
     ]
    }
   ],
   "source": [
    "x = Variable(np.array([1,2,3,4,5,6]))\n",
    "y = F.sum(x)\n",
    "y.backward()\n",
    "print(y)\n",
    "print(x.grad)"
   ]
  },
  {
   "cell_type": "code",
   "execution_count": 29,
   "id": "e9f4a102",
   "metadata": {},
   "outputs": [
    {
     "name": "stdout",
     "output_type": "stream",
     "text": [
      "variable(21)\n",
      "variable([[1 1 1]\n",
      "          [1 1 1]])\n"
     ]
    }
   ],
   "source": [
    "x =  Variable(np.array([[1,2,3],[4,5,6]]))\n",
    "y = F.sum(x)\n",
    "y.backward()\n",
    "print(y)\n",
    "print(x.grad)"
   ]
  },
  {
   "cell_type": "markdown",
   "id": "6a467172",
   "metadata": {},
   "source": [
    "*axis(축) 지정 인수\n",
    "합계를 구할때 축을 지정할 수 있음\n",
    "x의 형상은 (2,3)이고 출력 y의 형상은(3, )이다.\n",
    "Axis는 축을 뜻하며, 다차원 배열에서 화살표의 방향을 의미"
   ]
  },
  {
   "cell_type": "code",
   "execution_count": 30,
   "id": "49472ecc",
   "metadata": {},
   "outputs": [
    {
     "name": "stdout",
     "output_type": "stream",
     "text": [
      "[5 7 9]\n",
      "(2, 3) -> (3,)\n"
     ]
    }
   ],
   "source": [
    "x = np.array([[1,2,3],[4,5,6,]])\n",
    "y = np.sum(x, axis=0)\n",
    "print(y)\n",
    "print(x.shape, '->', y.shape)"
   ]
  },
  {
   "cell_type": "markdown",
   "id": "a8ef153b",
   "metadata": {},
   "source": [
    "*keepdims인수\n",
    ":입력과 출력의 차원수(축 수)를 똑같게 유지\n",
    "    keepdims = True 축의 수가 유지\n",
    "    keepdims = False y의 형상은 스칼라"
   ]
  },
  {
   "cell_type": "code",
   "execution_count": 31,
   "id": "1545e9d4",
   "metadata": {},
   "outputs": [
    {
     "name": "stdout",
     "output_type": "stream",
     "text": [
      "[[21]]\n",
      "(1, 1)\n"
     ]
    }
   ],
   "source": [
    "x = np.array([[1,2,3],[4,5,6]])\n",
    "y = np.sum(x, keepdims=True)\n",
    "print(y)\n",
    "print(y.shape)"
   ]
  },
  {
   "cell_type": "markdown",
   "id": "328eb55b",
   "metadata": {},
   "source": [
    "==40=="
   ]
  },
  {
   "cell_type": "markdown",
   "id": "76d97793",
   "metadata": {},
   "source": [
    "*넘파이 브로드캐스트\n",
    "서로다른 형상을 가진 배열들간에 산술 연산을 수행하기 위해 배열의 형상을 조정\n",
    "> 작은 배열을 큰 배열에 맞춰 연산을 수행할 수 있음\n",
    "\n",
    "*Dezero에서도 브로드캐스트 지원\n",
    "sum함수를 구현시 역전파에서 구현되지 않은 broadcast_to함수를 이용했음"
   ]
  },
  {
   "cell_type": "code",
   "execution_count": 32,
   "id": "b14aeafb",
   "metadata": {},
   "outputs": [
    {
     "name": "stdout",
     "output_type": "stream",
     "text": [
      "[[1 2 3]\n",
      " [1 2 3]]\n"
     ]
    }
   ],
   "source": [
    "x = np.array([1,2,3])\n",
    "y = np.broadcast_to(x,(2,3))#(3,)형상을 (2,3)형상으로 바꿔주었다.\n",
    "print(y) "
   ]
  },
  {
   "cell_type": "markdown",
   "id": "cd07e3ef",
   "metadata": {},
   "source": [
    "브로드캐스트가 수행된 후의 역전파는\n",
    "'원소복사'가 일어날 경우 역전파때는 입력x의 형상과 같아지도록 기울기의 '합'을 구한다.\n",
    "> sum_to라는 함수로 순전파와 역전파의 관계가 만들어진다."
   ]
  },
  {
   "cell_type": "code",
   "execution_count": 33,
   "id": "71064370",
   "metadata": {},
   "outputs": [
    {
     "name": "stdout",
     "output_type": "stream",
     "text": [
      "[[5 7 9]]\n",
      "[[ 6]\n",
      " [15]]\n"
     ]
    }
   ],
   "source": [
    "from dezero.utils import sum_to\n",
    "\n",
    "x = np.array([[1,2,3],[4,5,6]])\n",
    "y = sum_to(x,(1,3))\n",
    "print(y)\n",
    "\n",
    "y = sum_to(x,(2,1))\n",
    "print(y)"
   ]
  },
  {
   "cell_type": "markdown",
   "id": "667bc16b",
   "metadata": {},
   "source": [
    "*sum_to함수의 역전파\n",
    "역전파는 broadcast_to함수를 그대로 이용\n",
    "이 함수를 사용하여 입력 x의 형상과 같아지도록 기울기의 원소를 복제한다."
   ]
  },
  {
   "cell_type": "markdown",
   "id": "c5c0c286",
   "metadata": {},
   "source": [
    "*BroadcastTo클래스와 broadcast_to함수 구현\n",
    "역전파에서는 입력 x와 형상을 일치시키는데 Dezero의 sum_to함수 이용\n",
    "\n",
    "*SumTo클래스와 sum_to함수 구현\n",
    "역전파에서는 입력 x와 형상이 같아지도록 기울기의 원소를 복제함.\n",
    "상호의존적 관계인 broadcast_to함수와 sum_to함수"
   ]
  },
  {
   "cell_type": "markdown",
   "id": "ec8ff619",
   "metadata": {},
   "source": [
    "브로드캐스트란?\n",
    "형상이 다른 다차원 배열끼리 연산을 가능하게 하는 넘파이 기능\n",
    "\n",
    "sum_to함수 구현 이유: 넘파이 브로드캐스트에 대응하기 위해\n",
    "    x0,x1은 형상이 다르지만 계산 과정에서 x1의 원소가 x0형상에 맞춰 복제된다.\n",
    "    \n",
    "Dezero에서의 브로드캐스트)\n",
    "순전파는 브로드캐스트 발생(but, 역전파는 일어나지 않는다.)\n",
    "\n",
    "넘파이의 브로드캐스트)\n",
    "broadcast_to 함수에서 이뤄지면서 역전파는 sum_to함수에서 일어난다."
   ]
  },
  {
   "cell_type": "markdown",
   "id": "2dc0d8b4",
   "metadata": {},
   "source": [
    "*브로드캐스트 역전파 계산\n",
    "순전파때 브로드캐스트가 일어난다면 x0과 x1의 형상이 다르다는것\n",
    ">> 두 형상이 다를때 브로드캐스트용 역전파를 계산\n",
    "\n",
    "기울기gx0는 x0의 형상이 되도록 합을 구하고 기울기 gx1은 x1의 형상이 되도록 합을 구한다."
   ]
  },
  {
   "cell_type": "code",
   "execution_count": 34,
   "id": "bc44d805",
   "metadata": {},
   "outputs": [
    {
     "name": "stdout",
     "output_type": "stream",
     "text": [
      "variable([11 12 13])\n",
      "variable([3])\n"
     ]
    }
   ],
   "source": [
    "x0 = Variable(np.array([1,2,3]))\n",
    "x1 = Variable(np.array([10]))\n",
    "y = x0 + x1\n",
    "print(y)\n",
    "\n",
    "y.backward()\n",
    "print(x1.grad)"
   ]
  },
  {
   "cell_type": "markdown",
   "id": "15b54377",
   "metadata": {},
   "source": [
    "==41=="
   ]
  },
  {
   "cell_type": "code",
   "execution_count": null,
   "id": "d65f91d1",
   "metadata": {},
   "outputs": [],
   "source": [
    "*벡터의 내적\n",
    "a = (a0,---,an)\n",
    "b = (b0,---,bn)\n",
    "내적은 ab = a0b0+---+anbn\n",
    "두 벡터 사이의 대응 원소의 곱을 모두 합한 값이 벡터의 내적\n",
    "\n",
    "*행렬의 곱\n",
    "왼쪽 행렬의 가로방향 벡터와 오른쪽 행렬의 세로방향 벡터 사이의 내적을 계산\n",
    "벡터의 내적과 행렬의 곱 계산은 모두 np.dot함수로 처리할 수 있음."
   ]
  },
  {
   "cell_type": "code",
   "execution_count": 36,
   "id": "bfba7b20",
   "metadata": {
    "scrolled": true
   },
   "outputs": [
    {
     "name": "stdout",
     "output_type": "stream",
     "text": [
      "32\n",
      "[[19 22]\n",
      " [43 50]]\n"
     ]
    }
   ],
   "source": [
    "#벡터의 내적\n",
    "a = np.array([1,2,3])\n",
    "b = np.array([4,5,6])\n",
    "c = np.dot(a,b)\n",
    "print(c)\n",
    "\n",
    "a=np.array([[1,2],[3,4]])\n",
    "b = np.array([[5,6],[7,8]])\n",
    "c = np.dot(a,b)\n",
    "print(c)"
   ]
  },
  {
   "cell_type": "code",
   "execution_count": null,
   "id": "c5d5d19d",
   "metadata": {},
   "outputs": [],
   "source": [
    "*행렬과 벡터 사용시 체크사항\n",
    "형상에 주의!\n",
    "축의 원소의 수 일치"
   ]
  },
  {
   "cell_type": "code",
   "execution_count": null,
   "id": "d6298972",
   "metadata": {},
   "outputs": [],
   "source": [
    "*행렬 곱의 역전파\n",
    "최종적으로 스칼라를 출력하는 계산을 다룬다.\n",
    "L의 각 변수에 대한 미분을 역전파로 구한다.\n",
    "xi에서 L에 이르는 연쇄 법칙의 경로는 여러개가 있다.\n",
    "y의 각 원소의 변화를 통해 궁극적으로 L이 변화하게 된다.\n",
    "\n",
    "라운드x와 라운드y를 알고싶다 > 라운드x는 라운드y와 W^T를 곱해주고 라운드W는 x^T와 라운드y를 곱해주면된다."
   ]
  },
  {
   "cell_type": "code",
   "execution_count": null,
   "id": "c9b74ac7",
   "metadata": {},
   "outputs": [],
   "source": [
    "*행렬의 곱 코드 구현"
   ]
  }
 ],
 "metadata": {
  "kernelspec": {
   "display_name": "Python 3 (ipykernel)",
   "language": "python",
   "name": "python3"
  },
  "language_info": {
   "codemirror_mode": {
    "name": "ipython",
    "version": 3
   },
   "file_extension": ".py",
   "mimetype": "text/x-python",
   "name": "python",
   "nbconvert_exporter": "python",
   "pygments_lexer": "ipython3",
   "version": "3.11.5"
  }
 },
 "nbformat": 4,
 "nbformat_minor": 5
}
