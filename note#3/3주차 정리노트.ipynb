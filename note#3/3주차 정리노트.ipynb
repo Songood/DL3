{
 "cells": [
  {
   "cell_type": "code",
   "execution_count": null,
   "id": "fb4c5fd2",
   "metadata": {},
   "outputs": [],
   "source": [
    "====가변의 길이 인수(순전파 편)=====\n",
    "가변 길이: 인수 또는 반환값의 수가 달라질 수 있다.\n",
    "\n",
    "    \n",
    "가변 길이 입출력 표현: '하나의 인수'만 받고 '하나의 값'만 반환"
   ]
  },
  {
   "cell_type": "code",
   "execution_count": 2,
   "id": "8222ac6a",
   "metadata": {},
   "outputs": [],
   "source": [
    "import unittest\n",
    "import numpy as np"
   ]
  },
  {
   "cell_type": "code",
   "execution_count": 9,
   "id": "dbde68bb",
   "metadata": {},
   "outputs": [],
   "source": [
    "class Variable:\n",
    "    def __init__(self, data):\n",
    "        if data is not None:\n",
    "            if not isinstance(data, np.ndarray):\n",
    "                raise TypeError('{} is not supported'.format(type(data)))\n",
    "\n",
    "        self.data = data\n",
    "        self.grad = None\n",
    "        self.creator = None\n",
    "\n",
    "    def set_creator(self, func):\n",
    "        self.creator = func\n",
    "\n",
    "    def backward(self):\n",
    "        if self.grad is None:\n",
    "            self.grad = np.ones_like(self.data)\n",
    "\n",
    "        funcs = [self.creator]\n",
    "        while funcs:\n",
    "            f = funcs.pop()\n",
    "            x, y = f.input, f.output #함수의 입출력을 얻는다.\n",
    "            x.grad = f.backward(y.grad) #backward 메서드를 호출한다.\n",
    "\n",
    "            if x.creator is not None:\n",
    "                funcs.append(x.creator)"
   ]
  },
  {
   "cell_type": "code",
   "execution_count": 11,
   "id": "589aea70",
   "metadata": {},
   "outputs": [],
   "source": [
    "def as_array(x):\n",
    "    if np.isscalar(x):\n",
    "        return np.array(x)\n",
    "    return x"
   ]
  },
  {
   "cell_type": "code",
   "execution_count": null,
   "id": "111528d2",
   "metadata": {},
   "outputs": [],
   "source": [
    "====가변의 길이 인수(개선 편)=====\n",
    "#개선사항: 리스트나 튜플을 거치지않고 인수와 결과를 직접 주고 받는다.\n",
    "#1. Add클래스(혹은 다른 구체적인 함수 클래스)를 '사용하는 사람'을 위한 개선\n",
    "#2. '구현하는 사람'을 위한 개선"
   ]
  },
  {
   "cell_type": "code",
   "execution_count": null,
   "id": "541df117",
   "metadata": {},
   "outputs": [],
   "source": [
    "===1. Add클래스(혹은 다른 구체적인 함수 클래스)를 '사용하는 사람'을 위한 개선=="
   ]
  },
  {
   "cell_type": "code",
   "execution_count": 4,
   "id": "431d4ab0",
   "metadata": {},
   "outputs": [],
   "source": [
    "class Function:\n",
    "    def __call__(self, *inputs): #별표를 붙여야한다.>가변인수길이를 건네 함수 호출\n",
    "        xs = [x.data for x in inputs]  # Get data from Variable\n",
    "        ys = self.forward(*xs)#별표를 붙여 언팩\n",
    "        if not isinstance(ys, tuple): #튜플이 아닌 경우 추가 지원\n",
    "            ys = (ys, )\n",
    "        outputs = [Variable(as_array(y)) for y in ys]  # Wrap data\n",
    "\n",
    "        for output in outputs:\n",
    "            output.set_creator(self)\n",
    "        self.inputs = inputs\n",
    "        self.outputs = outputs\n",
    "        return outputs if len(outputs) > 1 else outputs[0] #리스트의 원소가 하나라면 첫 번째 원소를 반환한다.\n",
    "\n",
    "    def forward(self, xs):\n",
    "        raise NotImplementedError()\n",
    "\n",
    "    def backward(self, gys):\n",
    "        raise NotImplementedError()"
   ]
  },
  {
   "cell_type": "code",
   "execution_count": 22,
   "id": "e224d25c",
   "metadata": {},
   "outputs": [],
   "source": [
    "# class Add(Function):\n",
    "#     def forward(self, xs):\n",
    "#         x0, x1 = xs\n",
    "#         y = x0 + x1\n",
    "#         return (y,)\n"
   ]
  },
  {
   "cell_type": "code",
   "execution_count": 5,
   "id": "232c49e3",
   "metadata": {},
   "outputs": [],
   "source": [
    "class Add(Function):\n",
    "    def forward(self, x0, x1):\n",
    "        y = x0 + x1\n",
    "        return y"
   ]
  },
  {
   "cell_type": "code",
   "execution_count": 7,
   "id": "ce64f29a",
   "metadata": {},
   "outputs": [],
   "source": [
    "def add(x0, x1):\n",
    "    return Add()(x0, x1)"
   ]
  },
  {
   "cell_type": "code",
   "execution_count": 12,
   "id": "8c8e124a",
   "metadata": {},
   "outputs": [
    {
     "name": "stdout",
     "output_type": "stream",
     "text": [
      "5\n"
     ]
    }
   ],
   "source": [
    "x0 = Variable(np.array(2))\n",
    "x1 = Variable(np.array(3))\n",
    "y = add(x0, x1)\n",
    "print(y.data)"
   ]
  },
  {
   "cell_type": "code",
   "execution_count": 23,
   "id": "65ad15e0",
   "metadata": {},
   "outputs": [
    {
     "name": "stdout",
     "output_type": "stream",
     "text": [
      "5\n"
     ]
    }
   ],
   "source": [
    "xs = [Variable(np.array(2)), Variable(np.array(3))]\n",
    "f = Add()\n",
    "ys = f(xs)\n",
    "y = ys[0]\n",
    "print(y.data)"
   ]
  },
  {
   "cell_type": "code",
   "execution_count": 5,
   "id": "b2320e32",
   "metadata": {},
   "outputs": [],
   "source": [
    "class Square(Function):\n",
    "    def forward(self, x):\n",
    "        y = x ** 2\n",
    "        return y\n",
    "\n",
    "    def backward(self, gy):\n",
    "        x = self.input.data\n",
    "        gx = 2 * x * gy\n",
    "        return gx"
   ]
  },
  {
   "cell_type": "code",
   "execution_count": 6,
   "id": "6e1b4c9b",
   "metadata": {},
   "outputs": [],
   "source": [
    "def square(x):\n",
    "    return Square()(x)"
   ]
  },
  {
   "cell_type": "code",
   "execution_count": 7,
   "id": "51c4b1bb",
   "metadata": {},
   "outputs": [],
   "source": [
    "def numerical_diff(f, x, eps=1e-4):\n",
    "    x0 = Variable(x.data - eps)\n",
    "    x1 = Variable(x.data + eps)\n",
    "    y0 = f(x0)\n",
    "    y1 = f(x1)\n",
    "    return (y1.data - y0.data) / (2 * eps)"
   ]
  },
  {
   "cell_type": "code",
   "execution_count": 8,
   "id": "b43ba4d6",
   "metadata": {},
   "outputs": [],
   "source": [
    "class SquareTest(unittest.TestCase):\n",
    "    def test_forward(self):\n",
    "        x = Variable(np.array(2.0))\n",
    "        y = square(x)\n",
    "        expected = np.array(4.0)\n",
    "        self.assertEqual(y.data, expected)\n",
    "\n",
    "    def test_backward(self):\n",
    "        x = Variable(np.array(3.0))\n",
    "        y = square(x)\n",
    "        y.backward()\n",
    "        expected = np.array(6.0)\n",
    "        self.assertEqual(x.grad, expected)\n",
    "\n",
    "    def test_gradient_check(self):\n",
    "        x = Variable(np.random.rand(1))\n",
    "        y = square(x)\n",
    "        y.backward()\n",
    "        num_grad = numerical_diff(square, x)\n",
    "        flg = np.allclose(x.grad, num_grad)\n",
    "        self.assertTrue(flg)"
   ]
  },
  {
   "cell_type": "code",
   "execution_count": null,
   "id": "4ad226db",
   "metadata": {},
   "outputs": [],
   "source": [
    "==13=="
   ]
  },
  {
   "cell_type": "code",
   "execution_count": null,
   "id": "11e98966",
   "metadata": {},
   "outputs": [],
   "source": [
    "#덧셈의 역전파는 출력 쪽에서 전해지는 미분값에 1을 곱한 값이 입력 변수(x0, x1)의 미분\n",
    "##즉 상류에서 흘러오는 미분밗을 '그대로 흘려보내는 것'is 덧셈의 역전파"
   ]
  },
  {
   "cell_type": "code",
   "execution_count": 13,
   "id": "e6609c0a",
   "metadata": {},
   "outputs": [],
   "source": [
    "class Variable:\n",
    "    def __init__(self, data):\n",
    "        if data is not None:\n",
    "            if not isinstance(data, np.ndarray):\n",
    "                raise TypeError('{} is not supported'.format(type(data)))\n",
    "\n",
    "        self.data = data\n",
    "        self.grad = None\n",
    "        self.creator = None\n",
    "\n",
    "    def set_creator(self, func):\n",
    "        self.creator = func\n",
    "\n",
    "    def backward(self):\n",
    "        if self.grad is None:\n",
    "            self.grad = np.ones_like(self.data)\n",
    "\n",
    "        funcs = [self.creator]\n",
    "        while funcs:\n",
    "            f = funcs.pop()\n",
    "            gys = [output.grad for output in f.outputs] #출력 변수인 outputs에 담긴 미분값을 리스트로 담는다.\n",
    "            gxs = f.backward(*gys) #함수 f의 역전파 호출\n",
    "            if not isinstance(gxs, tuple): #gxs가 튜플이 아니면 튜플로 변환\n",
    "                gxs = (gxs,)\n",
    "\n",
    "            for x, gx in zip(f.inputs, gxs) #역전파로 전파되는 Variable의 인스턴스 변수 grad에 저장\n",
    "                x.grad = gx\n",
    "\n",
    "                if x.creator is not None:\n",
    "                    funcs.append(x.creator)\n"
   ]
  },
  {
   "cell_type": "code",
   "execution_count": 14,
   "id": "86a9a282",
   "metadata": {},
   "outputs": [],
   "source": [
    "def as_array(x):\n",
    "    if np.isscalar(x):\n",
    "        return np.array(x)\n",
    "    return x"
   ]
  },
  {
   "cell_type": "code",
   "execution_count": 15,
   "id": "872b1b3a",
   "metadata": {},
   "outputs": [],
   "source": [
    "class Function:\n",
    "    def __call__(self, *inputs):\n",
    "        xs = [x.data for x in inputs]\n",
    "        ys = self.forward(*xs)\n",
    "        if not isinstance(ys, tuple):\n",
    "            ys = (ys,)\n",
    "        outputs = [Variable(as_array(y)) for y in ys]\n",
    "\n",
    "        for output in outputs:\n",
    "            output.set_creator(self)\n",
    "        self.inputs = inputs\n",
    "        self.outputs = outputs\n",
    "        return outputs if len(outputs) > 1 else outputs[0]\n",
    "\n",
    "    def forward(self, xs):\n",
    "        raise NotImplementedError()\n",
    "\n",
    "    def backward(self, gys):\n",
    "        raise NotImplementedError()"
   ]
  },
  {
   "cell_type": "code",
   "execution_count": 16,
   "id": "1fce7504",
   "metadata": {},
   "outputs": [],
   "source": [
    "class Square(Function):\n",
    "    def forward(self, x):\n",
    "        y = x ** 2\n",
    "        return y\n",
    "\n",
    "    def backward(self, gy):\n",
    "        x = self.inputs[0].data\n",
    "        gx = 2 * x * gy\n",
    "        return gx"
   ]
  },
  {
   "cell_type": "code",
   "execution_count": 17,
   "id": "0fd819ab",
   "metadata": {},
   "outputs": [],
   "source": [
    "def square(x):\n",
    "    f = Square()\n",
    "    return f(x)"
   ]
  },
  {
   "cell_type": "code",
   "execution_count": 18,
   "id": "fa92cefd",
   "metadata": {},
   "outputs": [],
   "source": [
    "class Add(Function):\n",
    "    def forward(self, x0, x1):\n",
    "        y = x0 + x1\n",
    "        return y\n",
    "\n",
    "    def backward(self, gy):\n",
    "        return gy, gy"
   ]
  },
  {
   "cell_type": "code",
   "execution_count": 19,
   "id": "27d74b5d",
   "metadata": {},
   "outputs": [],
   "source": [
    "def add(x0, x1):\n",
    "    return Add()(x0, x1)"
   ]
  },
  {
   "cell_type": "code",
   "execution_count": 20,
   "id": "e6390159",
   "metadata": {},
   "outputs": [
    {
     "name": "stdout",
     "output_type": "stream",
     "text": [
      "13.0\n",
      "4.0\n",
      "6.0\n"
     ]
    }
   ],
   "source": [
    "x = Variable(np.array(2.0))\n",
    "y = Variable(np.array(3.0))\n",
    "\n",
    "z = add(square(x), square(y))\n",
    "z.backward()\n",
    "print(z.data)\n",
    "print(x.grad)\n",
    "print(y.grad)\n",
    "\n",
    "##Dezero를 사용하여 z=x^2+y^2이라는 계싼을 z=add(square(x),square(y))라는 코드로 해결"
   ]
  },
  {
   "cell_type": "code",
   "execution_count": null,
   "id": "03c9b676",
   "metadata": {},
   "outputs": [],
   "source": [
    "==14=="
   ]
  },
  {
   "cell_type": "code",
   "execution_count": null,
   "id": "07e990f0",
   "metadata": {},
   "outputs": [],
   "source": [
    "#같은 변수를 반복해서 사용할 경우 의도대로 동작하지 않을 수 있다. \n",
    "##>>해결책은 미분값(grad)을 처음 설정하는 경우에는 지금까지와 똑같이 출력 쪽에서 전해진느 미분값을 그대로 대입!\n",
    "##>>>다음부터는 전달된 미분값을 '더해'주도록 수정."
   ]
  },
  {
   "cell_type": "code",
   "execution_count": 21,
   "id": "c06df172",
   "metadata": {},
   "outputs": [],
   "source": [
    "class Variable:\n",
    "    def __init__(self, data):\n",
    "        if data is not None:\n",
    "            if not isinstance(data, np.ndarray):\n",
    "                raise TypeError('{} is not supported'.format(type(data)))\n",
    "\n",
    "        self.data = data\n",
    "        self.grad = None\n",
    "        self.creator = None\n",
    "\n",
    "    def set_creator(self, func):\n",
    "        self.creator = func\n",
    "\n",
    "    def cleargrad(self):\n",
    "        self.grad = None\n",
    "\n",
    "    def backward(self):\n",
    "        if self.grad is None:\n",
    "            self.grad = np.ones_like(self.data)\n",
    "\n",
    "        funcs = [self.creator]\n",
    "        while funcs:\n",
    "            f = funcs.pop() #처리할 함수를 그 리스트의 끝에서 꺼냄\n",
    "            gys = [output.grad for output in f.outputs]\n",
    "            gxs = f.backward(*gys)\n",
    "            if not isinstance(gxs, tuple):\n",
    "                gxs = (gxs,)\n",
    "\n",
    "            for x, gx in zip(f.inputs, gxs):\n",
    "                if x.grad is None:\n",
    "                    x.grad = gx\n",
    "                else:\n",
    "                    x.grad = x.grad + gx\n",
    "\n",
    "                if x.creator is not None:\n",
    "                    funcs.append(x.creator) #함수의 후보를 funcs 리스트의 끝에 추가"
   ]
  },
  {
   "cell_type": "code",
   "execution_count": 22,
   "id": "97fb4a20",
   "metadata": {},
   "outputs": [],
   "source": [
    "def as_array(x):\n",
    "    if np.isscalar(x):\n",
    "        return np.array(x)\n",
    "    return x"
   ]
  },
  {
   "cell_type": "code",
   "execution_count": 23,
   "id": "14188467",
   "metadata": {},
   "outputs": [],
   "source": [
    "class Function:\n",
    "    def __call__(self, *inputs):\n",
    "        xs = [x.data for x in inputs]\n",
    "        ys = self.forward(*xs)\n",
    "        if not isinstance(ys, tuple):\n",
    "            ys = (ys,)\n",
    "        outputs = [Variable(as_array(y)) for y in ys]\n",
    "\n",
    "        for output in outputs:\n",
    "            output.set_creator(self)\n",
    "        self.inputs = inputs\n",
    "        self.outputs = outputs\n",
    "        return outputs if len(outputs) > 1 else outputs[0]\n",
    "\n",
    "    def forward(self, xs):\n",
    "        raise NotImplementedError()\n",
    "\n",
    "    def backward(self, gys):\n",
    "        raise NotImplementedError()"
   ]
  },
  {
   "cell_type": "code",
   "execution_count": 24,
   "id": "4bddcefd",
   "metadata": {},
   "outputs": [],
   "source": [
    "class Add(Function):\n",
    "    def forward(self, x0, x1):\n",
    "        y = x0 + x1\n",
    "        return y\n",
    "\n",
    "    def backward(self, gy):\n",
    "        return gy, gy\n"
   ]
  },
  {
   "cell_type": "code",
   "execution_count": 25,
   "id": "83d5a031",
   "metadata": {},
   "outputs": [],
   "source": [
    "def add(x0, x1):\n",
    "    return Add()(x0, x1)"
   ]
  },
  {
   "cell_type": "code",
   "execution_count": 26,
   "id": "b0a341e2",
   "metadata": {},
   "outputs": [
    {
     "name": "stdout",
     "output_type": "stream",
     "text": [
      "2.0\n"
     ]
    }
   ],
   "source": [
    "#첫번째 계산\n",
    "x = Variable(np.array(3.0))\n",
    "y = add(x, x)\n",
    "y.backward()\n",
    "print(x.grad)"
   ]
  },
  {
   "cell_type": "code",
   "execution_count": 27,
   "id": "c342d17f",
   "metadata": {},
   "outputs": [
    {
     "name": "stdout",
     "output_type": "stream",
     "text": [
      "3.0\n"
     ]
    }
   ],
   "source": [
    "#두번째 계싼(같은 x를 사용하여 다른 계산을 수행)\n",
    "x.cleargrad() #미분값 초기화\n",
    "y = add(add(x, x), x)\n",
    "y.backward()\n",
    "print(x.grad)"
   ]
  },
  {
   "cell_type": "code",
   "execution_count": null,
   "id": "fc21a05a",
   "metadata": {},
   "outputs": [],
   "source": [
    "==15=="
   ]
  },
  {
   "cell_type": "code",
   "execution_count": 29,
   "id": "219efbd4",
   "metadata": {},
   "outputs": [],
   "source": [
    "#지금까지는 일직선 계산 그래프의 미분 계산만 다뤘음\n",
    "#복잡하게 연결된 계산 그래프의 미분 계산 필요.\n",
    ">> 변수를 반복해서 사용하면 역전파 때는 출력쪽에서 전파하는 미분값을 더해라."
   ]
  },
  {
   "cell_type": "code",
   "execution_count": 30,
   "id": "1ab60cf3",
   "metadata": {},
   "outputs": [],
   "source": [
    "#Dezero의 문제점\n",
    "##함수 순서 처리가 D,C,A,B,A가 된다. C 다음에 A가 바로 이어짐\n",
    "##함수 A의 역전파가 두번 일어나는 것도 문제"
   ]
  },
  {
   "cell_type": "code",
   "execution_count": null,
   "id": "f5bd20d9",
   "metadata": {},
   "outputs": [],
   "source": [
    "#문제 원인\n",
    "##한줄로 나열된 계산 그래프를 다룸.\n",
    "##리스트에서 함수를 꺼내 처리하는 순서 고려안함.\n",
    "##Funcs 리스트 [B,A]에서 마지막 원소 A가 꺼내진다."
   ]
  },
  {
   "cell_type": "code",
   "execution_count": null,
   "id": "bd3918ab",
   "metadata": {},
   "outputs": [],
   "source": [
    "#함수 우선순위\n",
    "##funcs리스트에서지금까지 '마지막 원소'만 꺼냄\n",
    "##순전파 때 '함수'가 '변수'를 만들어냄. 이는 '부모-자식 관계'임\n",
    "##이 관계를 기준으로 함수와 변수의 세대를 기록\n",
    "##세대가 우선순위에 해당\n",
    "##역전파 시 세대수가 큰 쪽부터 처리하면 '부모'보다 '자식'이 먼저 처리됨"
   ]
  },
  {
   "cell_type": "code",
   "execution_count": null,
   "id": "fec89c39",
   "metadata": {},
   "outputs": [],
   "source": [
    "==16=="
   ]
  },
  {
   "cell_type": "code",
   "execution_count": null,
   "id": "abe28b42",
   "metadata": {},
   "outputs": [],
   "source": [
    "#복잡한 계산 그래프\n",
    "##함수 우선순위는 순전파 시 '세대'를 설정(역전파시에는 최근 세대의 함수부터)\n",
    "#순전파에서 세대추가하고 역전파에서는 세대 순으로 꺼냄"
   ]
  },
  {
   "cell_type": "code",
   "execution_count": 39,
   "id": "741b1060",
   "metadata": {},
   "outputs": [],
   "source": [
    "class Variable:\n",
    "    def __init__(self, data):\n",
    "        if data is not None:\n",
    "            if not isinstance(data, np.ndarray):\n",
    "                raise TypeError('{}은(는) 지원하지 않습니다'.format(type(data)))\n",
    "\n",
    "        self.data = data\n",
    "        self.grad = None\n",
    "        self.creator = None\n",
    "        self.generation = 0 #세대 수를 기록하는 변수\n",
    "\n",
    "    def set_creator(self, func):\n",
    "        self.creator = func\n",
    "        self.generation = func.generation + 1 #세대를 기록한다(부모 세대 + 1)\n",
    "\n",
    "    def cleargrad(self):\n",
    "        self.grad = None\n",
    "\n",
    "    def backward(self):\n",
    "        if self.grad is None:\n",
    "            self.grad = np.ones_like(self.data)\n",
    "\n",
    "        funcs = []\n",
    "        seen_set = set()\n",
    "\n",
    "        def add_func(f): #함수 리스트를 세대 순으로 정렬하는 역할을 수행\n",
    "            if f not in seen_set:\n",
    "                funcs.append(f)\n",
    "                seen_set.add(f)\n",
    "                funcs.sort(key=lambda x: x.generation)\n",
    "\n",
    "        add_func(self.creator)\n",
    "\n",
    "        while funcs:\n",
    "            f = funcs.pop()\n",
    "            gys = [output.grad for output in f.outputs]\n",
    "            gxs = f.backward(*gys)\n",
    "            if not isinstance(gxs, tuple):\n",
    "                gxs = (gxs,)\n",
    "\n",
    "            for x, gx in zip(f.inputs, gxs):\n",
    "                if x.grad is None:\n",
    "                    x.grad = gx\n",
    "                else:\n",
    "                    x.grad = x.grad + gx\n",
    "\n",
    "                if x.creator is not None:\n",
    "                    add_func(x.creator)"
   ]
  },
  {
   "cell_type": "code",
   "execution_count": 40,
   "id": "f869988f",
   "metadata": {},
   "outputs": [
    {
     "name": "stdout",
     "output_type": "stream",
     "text": [
      "32.0\n",
      "64.0\n"
     ]
    }
   ],
   "source": [
    "x = Variable(np.array(2.0))\n",
    "a = square(x)\n",
    "y = add(square(a), square(a))\n",
    "y.backward()\n",
    "\n",
    "print(y.data)\n",
    "print(x.grad)"
   ]
  }
 ],
 "metadata": {
  "kernelspec": {
   "display_name": "Python 3 (ipykernel)",
   "language": "python",
   "name": "python3"
  },
  "language_info": {
   "codemirror_mode": {
    "name": "ipython",
    "version": 3
   },
   "file_extension": ".py",
   "mimetype": "text/x-python",
   "name": "python",
   "nbconvert_exporter": "python",
   "pygments_lexer": "ipython3",
   "version": "3.11.5"
  }
 },
 "nbformat": 4,
 "nbformat_minor": 5
}
