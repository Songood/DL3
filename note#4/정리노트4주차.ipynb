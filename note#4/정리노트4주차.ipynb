{
 "cells": [
  {
   "cell_type": "code",
   "execution_count": 2,
   "id": "329d36d8",
   "metadata": {},
   "outputs": [],
   "source": [
    "==17=="
   ]
  },
  {
   "cell_type": "code",
   "execution_count": null,
   "id": "bd7805d4",
   "metadata": {},
   "outputs": [],
   "source": [
    "●파이썬은 필요 없어진 객체를 메모리에서 자동 삭제함.\n",
    "●신경망의 메모리 관리는 큰 데이터를 다룬다\n",
    "●파이썬의 메모리 관리방식: 1. 참조 수를 셈 2. 세대기준으로 쓸모없는 객체 회수(Garbage Collection)"
   ]
  },
  {
   "cell_type": "code",
   "execution_count": 103,
   "id": "dc0ffb7e",
   "metadata": {},
   "outputs": [],
   "source": [
    "import weakref\n",
    "import numpy as np\n",
    "from dezero.core_simple import Variable\n",
    "import contextlib"
   ]
  },
  {
   "cell_type": "code",
   "execution_count": 100,
   "id": "786f88a9",
   "metadata": {},
   "outputs": [],
   "source": [
    "a = np.array([1, 2, 3])\n",
    "b = weakref.ref(a)"
   ]
  },
  {
   "cell_type": "code",
   "execution_count": 97,
   "id": "b1c642ab",
   "metadata": {},
   "outputs": [
    {
     "data": {
      "text/plain": [
       "<weakref at 0x00000150EFCD9580; to 'numpy.ndarray' at 0x00000150F0C815F0>"
      ]
     },
     "execution_count": 97,
     "metadata": {},
     "output_type": "execute_result"
    }
   ],
   "source": [
    "b"
   ]
  },
  {
   "cell_type": "code",
   "execution_count": 15,
   "id": "708482ef",
   "metadata": {},
   "outputs": [
    {
     "data": {
      "text/plain": [
       "array([1, 2, 3])"
      ]
     },
     "execution_count": 15,
     "metadata": {},
     "output_type": "execute_result"
    }
   ],
   "source": [
    "b()"
   ]
  },
  {
   "cell_type": "code",
   "execution_count": 17,
   "id": "59c00370",
   "metadata": {},
   "outputs": [
    {
     "data": {
      "text/plain": [
       "<weakref at 0x00000150EFCD9620; to 'numpy.ndarray' at 0x00000150EFCC88D0>"
      ]
     },
     "execution_count": 17,
     "metadata": {},
     "output_type": "execute_result"
    }
   ],
   "source": [
    "a = None\n",
    "b"
   ]
  },
  {
   "cell_type": "code",
   "execution_count": 12,
   "id": "3f9822dd",
   "metadata": {},
   "outputs": [
    {
     "name": "stdout",
     "output_type": "stream",
     "text": [
      "<__main__.obj object at 0x00000150EF84C150>\n"
     ]
    }
   ],
   "source": [
    "class obj:\n",
    "    pass\n",
    "\n",
    "def f(x):\n",
    "    print(x)\n",
    "    \n",
    "a =  obj() #변수에 대입: 참조카운트1\n",
    "f(a) #함수에 전달: 함수 안에서 참조 카운트2\n",
    "#함수 완료: 빠져 나오면 참조 카운트1\n",
    "a =  None #대입 해제: 참조 카운트0"
   ]
  },
  {
   "cell_type": "code",
   "execution_count": null,
   "id": "7e97f8f0",
   "metadata": {},
   "outputs": [],
   "source": [
    "a = obj()\n",
    "b = obj()\n",
    "c = obj()\n",
    "\n",
    "a.b = b\n",
    "b.c = c\n",
    "\n",
    "a = b = c =None #a의 참조 카운트(b와c의 참조카운트는 1)"
   ]
  },
  {
   "cell_type": "code",
   "execution_count": null,
   "id": "b0d8189d",
   "metadata": {},
   "outputs": [],
   "source": [
    "#순환참조 (참조카운트로는 해결할 수 없는 문제)\n",
    "a = obj()\n",
    "b = obj()\n",
    "c = obj()\n",
    "\n",
    "a.b = b\n",
    "a.c = c\n",
    "c.a = a\n",
    "\n",
    "a = b = c =None #메모리에서 삭제되지않음\n",
    "##메모리 해제를 GC에 미루다 보면 메모리 사용량이 커지는 원인"
   ]
  },
  {
   "cell_type": "code",
   "execution_count": 80,
   "id": "3c0fd5ec",
   "metadata": {},
   "outputs": [],
   "source": [
    "class Variable:\n",
    "    def __init__(self, data,name=None):\n",
    "        if data is not None:\n",
    "            if not isinstance(data, np.ndarray):\n",
    "                raise TypeError('{} is not supported'.format(type(data)))\n",
    "\n",
    "        self.data = data\n",
    "        self.name = name\n",
    "        self.grad = None\n",
    "        self.creator = None\n",
    "        self.generation = 0\n",
    "        \n",
    "    @property#shape메서드를 인스턴스 변수처럼 사용할 수 있게 함.\n",
    "    def shape(self):\n",
    "        return self.data.shape\n",
    "\n",
    "    @property\n",
    "    def ndim(self):\n",
    "        return self.data.ndim\n",
    "\n",
    "    @property\n",
    "    def size(self):\n",
    "        return self.data.size\n",
    "\n",
    "    @property\n",
    "    def dtype(self):\n",
    "        return self.data.dtype\n",
    "    \n",
    "    def __repr__(self):\n",
    "        if self.data is None:\n",
    "            return 'variable(None)'\n",
    "        p = str(self.data).replace('\\n', '\\n' + ' ' * 9)\n",
    "        return 'variable(' + p + ')'\n",
    "\n",
    "    def __len__(self):\n",
    "        return len(self.data)\n",
    "\n",
    "    def set_creator(self, func):\n",
    "        self.creator = func\n",
    "        self.generation = func.generation + 1\n",
    "\n",
    "    def cleargrad(self):\n",
    "        self.grad = None\n",
    "\n",
    "    def backward(self,retain_grad=False):\n",
    "        if self.grad is None:\n",
    "            self.grad = np.ones_like(self.data)\n",
    "\n",
    "        funcs = []\n",
    "        seen_set = set()\n",
    "        \n",
    "        def add_func(f):\n",
    "            if f not in seen_set:\n",
    "                funcs.append(f)\n",
    "                seen_set.add(f)\n",
    "                funcs.sort(key=lambda x: x.generation)\n",
    "\n",
    "        add_func(self.creator)\n",
    "\n",
    "        while funcs:\n",
    "            f = funcs.pop()\n",
    "            gys = [output().grad for output in f.outputs]  #outputs를 참조\n",
    "            gxs = f.backward(*gys)\n",
    "            if not isinstance(gxs, tuple):\n",
    "                gxs = (gxs,)\n",
    "\n",
    "            for x, gx in zip(f.inputs, gxs):\n",
    "                if x.grad is None:\n",
    "                    x.grad = gx\n",
    "                else:\n",
    "                    x.grad = x.grad + gx\n",
    "\n",
    "                if x.creator is not None:\n",
    "                    add_func(x.creator)\n",
    "           \n",
    "            if not retain_grad:\n",
    "                for y in f.outputs:\n",
    "                    y().grad = None  # y는 약한 참조\n",
    "        @property\n",
    "        def shape(self):\n",
    "            return self.data.shape\n",
    "        \n",
    "Variable.__add__ = add\n",
    "Variable.__mul__ = mul"
   ]
  },
  {
   "cell_type": "code",
   "execution_count": 59,
   "id": "425d2d60",
   "metadata": {},
   "outputs": [],
   "source": [
    "class Function:\n",
    "    def __call__(self, *inputs):\n",
    "        inputs = [as_variable(x) for x in inputs] #__call__메서드가 as_variable함수 이용 \n",
    "        xs = [x.data for x in inputs]\n",
    "        ys = self.forward(*xs)\n",
    "        if not isinstance(ys, tuple):\n",
    "            ys = (ys,)\n",
    "        outputs = [Variable(as_array(y)) for y in ys]\n",
    "        \n",
    "        if Config.enable_backprop:\n",
    "            self.generation = max([x.generation for x in inputs]) #세대 설정\n",
    "            for output in outputs:\n",
    "                output.set_creator(self) #연결 설정\n",
    "            self.inputs = inputs #인스턴스 변수 inputs는 역전파시 사용\n",
    "            self.outputs = [weakref.ref(output) for output in outputs] #함수는 출력 변수를 약하게 참조\n",
    "        return outputs if len(outputs) > 1 else outputs[0]\n",
    "\n",
    "    def forward(self, xs):\n",
    "        raise NotImplementedError()\n",
    "\n",
    "    def backward(self, gys):\n",
    "        raise NotImplementedError()"
   ]
  },
  {
   "cell_type": "code",
   "execution_count": 22,
   "id": "1c394b92",
   "metadata": {},
   "outputs": [],
   "source": [
    "for i in range(10):\n",
    "    x = Variable(np.random.randn(10000)) #거대한 데이터\n",
    "    y = square(square(square(x))) #복잡한 계산 수행"
   ]
  },
  {
   "cell_type": "code",
   "execution_count": null,
   "id": "67ec3e06",
   "metadata": {},
   "outputs": [],
   "source": [
    "==18==\n",
    "메모리사용 개선할 수 있는 구조\n",
    "1. 역전파시 사용하는 메모리양을 줄임(불필요한 미분결과 보관하지않고 즉시 삭제)\n",
    "2. 역전파가 필요없는 경우용 모드를 제공(불필요한 계산을 생략)"
   ]
  },
  {
   "cell_type": "code",
   "execution_count": 25,
   "id": "fddc2192",
   "metadata": {},
   "outputs": [],
   "source": [
    "class Config:\n",
    "    enable_backprop = True"
   ]
  },
  {
   "cell_type": "code",
   "execution_count": 37,
   "id": "ce11b5c8",
   "metadata": {},
   "outputs": [],
   "source": [
    "class Add(Function):\n",
    "    def forward(self, x0, x1):\n",
    "        y = x0 + x1\n",
    "        return y\n",
    "\n",
    "    def backward(self, gy):\n",
    "        return gy, gy"
   ]
  },
  {
   "cell_type": "code",
   "execution_count": 62,
   "id": "33cd46a9",
   "metadata": {},
   "outputs": [],
   "source": [
    "def add(x0, x1):\n",
    "    x1 =  as_array(x1)\n",
    "    return Add()(x0, x1)"
   ]
  },
  {
   "cell_type": "code",
   "execution_count": 40,
   "id": "9c6f0296",
   "metadata": {},
   "outputs": [
    {
     "name": "stdout",
     "output_type": "stream",
     "text": [
      "None None\n",
      "2.0 1.0\n"
     ]
    }
   ],
   "source": [
    "x0=Variable(np.array(1.0))\n",
    "x1=Variable(np.array(1.0))\n",
    "t = add(x0, x1)\n",
    "y = add(x0, t)\n",
    "y.backward()\n",
    "\n",
    "print(y.grad, t.grad)\n",
    "print(x0.grad, x1.grad)"
   ]
  },
  {
   "cell_type": "code",
   "execution_count": 27,
   "id": "f2d94b6a",
   "metadata": {},
   "outputs": [],
   "source": [
    "#모드 전환 코드 수행\n",
    "Config.enable_backprop = True #중간 계산 결과가 유지> 메모리 차지\n",
    "x =  Variable(np.ones((100,100,100)))\n",
    "y = square(square(x))\n",
    "y.backward()\n",
    "\n",
    "Config.enable_backprop = False #중간 계산 결과 바로 삭제\n",
    "x = Variable(np.ones((100,100,100)))\n",
    "y = square(square(x))"
   ]
  },
  {
   "cell_type": "code",
   "execution_count": 29,
   "id": "03f6d293",
   "metadata": {},
   "outputs": [],
   "source": [
    "class Config:\n",
    "    enable_backprop = True"
   ]
  },
  {
   "cell_type": "code",
   "execution_count": 30,
   "id": "74bfa932",
   "metadata": {},
   "outputs": [],
   "source": [
    "@contextlib.contextmanager\n",
    "def using_config(name, value):\n",
    "    old_value = getattr(Config, name)\n",
    "    setattr(Config, name, value)\n",
    "    try:\n",
    "        yield\n",
    "    finally:\n",
    "        setattr(Config, name, old_value)"
   ]
  },
  {
   "cell_type": "code",
   "execution_count": 31,
   "id": "b0c1ff79",
   "metadata": {},
   "outputs": [],
   "source": [
    "with using_config('enable_backprop', False):\n",
    "    x = Variable(np.array(2.0))\n",
    "    y = square(x)"
   ]
  },
  {
   "cell_type": "code",
   "execution_count": 32,
   "id": "125e2408",
   "metadata": {},
   "outputs": [],
   "source": [
    "def no_grad():\n",
    "    return using_config('enable_backprop', False)"
   ]
  },
  {
   "cell_type": "code",
   "execution_count": 33,
   "id": "443f063a",
   "metadata": {},
   "outputs": [],
   "source": [
    "with no_grad():\n",
    "    x = Variable(np.array(2.0))\n",
    "    y = square(x)\n",
    "#>>기울기가 필요 없을떈 no_grad함수 호출"
   ]
  },
  {
   "cell_type": "code",
   "execution_count": null,
   "id": "bacf2253",
   "metadata": {},
   "outputs": [],
   "source": [
    "==19=="
   ]
  },
  {
   "cell_type": "code",
   "execution_count": null,
   "id": "8dfcbf56",
   "metadata": {},
   "outputs": [],
   "source": [
    "Variable클래스를 더욱 쉽게 사용하도록 개선\n",
    "1. 변수 이름을 서로 구분\n",
    "2. Variable 인스턴스를 ndarray인스턴스처럼 보이게 함(Variable인스턴스에서도 할 수 있도록 확장)\n",
    ">>Variable클래스는 ndarray만을 취급\n",
    ">>Variable이 데이터인 것처럼 보이게함\n",
    "3. 파이썬의 len함수와 함께 사용\n",
    "(_len_이라는 특수 메서드 구현시 Variable인스턴스에 대해서도 len함수 사용)\n",
    "4.print함수를 사용해서 Variable안의 데이터 내용 출력\n",
    ">>print함수가 출력해주는 문자열을 _repr_메서드를 재정의"
   ]
  },
  {
   "cell_type": "code",
   "execution_count": 44,
   "id": "cb4bb18f",
   "metadata": {},
   "outputs": [
    {
     "data": {
      "text/plain": [
       "(2, 3)"
      ]
     },
     "execution_count": 44,
     "metadata": {},
     "output_type": "execute_result"
    }
   ],
   "source": [
    "x = np.array([[1, 2, 3], [4, 5, 6]])\n",
    "x.shape #x.shape()대신 x.shape로 호출할 수 있다."
   ]
  },
  {
   "cell_type": "code",
   "execution_count": 46,
   "id": "5cbda950",
   "metadata": {},
   "outputs": [
    {
     "name": "stdout",
     "output_type": "stream",
     "text": [
      "2\n"
     ]
    }
   ],
   "source": [
    "x = Variable(np.array([[1, 2, 3], [4, 5, 6]]))\n",
    "print(len(x))"
   ]
  },
  {
   "cell_type": "code",
   "execution_count": 49,
   "id": "9876620c",
   "metadata": {},
   "outputs": [
    {
     "name": "stdout",
     "output_type": "stream",
     "text": [
      "variable([[1 2 3]\n",
      "          [4 5 6]])\n"
     ]
    }
   ],
   "source": [
    "x=Variable(np.array([[1,2,3],[4,5,6]]))\n",
    "print(x)"
   ]
  },
  {
   "cell_type": "code",
   "execution_count": null,
   "id": "0a52ef8c",
   "metadata": {},
   "outputs": [],
   "source": [
    "==20=="
   ]
  },
  {
   "cell_type": "code",
   "execution_count": null,
   "id": "785d4ee4",
   "metadata": {},
   "outputs": [],
   "source": [
    "+와 *연산자를 지원\n",
    "곱셈을 수행하는 Mul클래스 구현\n",
    "\n",
    "y=a*b처럼 코딩할 수 있도록 Variable인스턴스를 ndarray인스턴스처럼 사용하도록 구성"
   ]
  },
  {
   "cell_type": "code",
   "execution_count": null,
   "id": "22dfac36",
   "metadata": {},
   "outputs": [],
   "source": [
    "곱셈의 순전파와 역전파\n",
    "역전파는 최종출력인 L(손실)의 각 변수에 대한 미분을 전파"
   ]
  },
  {
   "cell_type": "code",
   "execution_count": 50,
   "id": "07327978",
   "metadata": {},
   "outputs": [],
   "source": [
    "class Mul(Function):\n",
    "    def forward(self, x0, x1):\n",
    "        y = x0 * x1\n",
    "        return y\n",
    "\n",
    "    def backward(self, gy):\n",
    "        x0, x1 = self.inputs[0].data, self.inputs[1].data\n",
    "        return gy * x1, gy * x0"
   ]
  },
  {
   "cell_type": "code",
   "execution_count": 51,
   "id": "6ed79c64",
   "metadata": {},
   "outputs": [],
   "source": [
    "def mul(x0, x1):\n",
    "    return Mul()(x0, x1)"
   ]
  },
  {
   "cell_type": "code",
   "execution_count": 55,
   "id": "bdd8f6f0",
   "metadata": {},
   "outputs": [
    {
     "name": "stdout",
     "output_type": "stream",
     "text": [
      "variable(7.0)\n",
      "2.0\n",
      "3.0\n"
     ]
    }
   ],
   "source": [
    "a = Variable(np.array(3.0))\n",
    "b = Variable(np.array(2.0))\n",
    "c = Variable(np.array(1.0))\n",
    "\n",
    "y = add(mul(a, b), c) #곱셈 사용! #y = a * b + c 이를 위해 연산자 오버로드 이용\n",
    "y.backward()\n",
    "\n",
    "print(y)\n",
    "print(a.grad)\n",
    "print(b.grad)"
   ]
  },
  {
   "cell_type": "code",
   "execution_count": 58,
   "id": "49248fe4",
   "metadata": {},
   "outputs": [],
   "source": [
    "==21== "
   ]
  },
  {
   "cell_type": "code",
   "execution_count": null,
   "id": "b37acd10",
   "metadata": {},
   "outputs": [],
   "source": [
    "ndarray 인스턴스와 수치 데이터와도 함께 사용하도록 개선\n",
    "a*np.array(2.0)처럼 ndarray인스턴스와 함께 사용할 수 없음\n",
    "수치 데이터도 사용 불가\n",
    "Variable인스턴스와 ndarray인스턴스 함께 사용 가능(int,float등도 함께 사용 가능)"
   ]
  },
  {
   "cell_type": "code",
   "execution_count": 71,
   "id": "e56a514b",
   "metadata": {},
   "outputs": [],
   "source": [
    "def as_array(x):\n",
    "    if np.isscalar(x):\n",
    "        return np.array(x)\n",
    "    return x"
   ]
  },
  {
   "cell_type": "code",
   "execution_count": 72,
   "id": "ac6885ae",
   "metadata": {},
   "outputs": [],
   "source": [
    "def add(x0,x1):\n",
    "    x1 = as_array(x1)\n",
    "    return Add()(x0,x1)"
   ]
  },
  {
   "cell_type": "code",
   "execution_count": 60,
   "id": "fa2fdd94",
   "metadata": {},
   "outputs": [],
   "source": [
    "def as_variable(obj): #obj가 Variable인스턴스면 그대로 반환, 아니면 변환하여 반환\n",
    "    if isinstance(obj, Variable):\n",
    "        return obj\n",
    "    return Variable(obj)"
   ]
  },
  {
   "cell_type": "code",
   "execution_count": 69,
   "id": "65297c96",
   "metadata": {},
   "outputs": [],
   "source": [
    "#y = 2.0 *x"
   ]
  },
  {
   "cell_type": "code",
   "execution_count": 75,
   "id": "ec2e27dd",
   "metadata": {},
   "outputs": [],
   "source": [
    "Variable.__add__ = add\n",
    "Variable.__radd__ = add\n",
    "Variable.__mul__ = mul\n",
    "Variable.__rmul__ = mul"
   ]
  },
  {
   "cell_type": "code",
   "execution_count": 77,
   "id": "f21d7173",
   "metadata": {},
   "outputs": [],
   "source": [
    "# x = Variable(np.array(2.0))\n",
    "# y = 3.0 * x + 1.0\n",
    "# print(y)"
   ]
  },
  {
   "cell_type": "code",
   "execution_count": null,
   "id": "913da208",
   "metadata": {},
   "outputs": [],
   "source": [
    "==22=="
   ]
  },
  {
   "cell_type": "code",
   "execution_count": null,
   "id": "91981a73",
   "metadata": {},
   "outputs": [],
   "source": [
    "연산자들을 추가\n",
    "추가 순서\n",
    "1. Function클래스를 상속하여 원하는 함수 클래스를 구현\n",
    "2. 파이썬 함수로 사용할 수 있도록 함\n",
    "3. Variable클래스의 연산자를 오버로드함"
   ]
  },
  {
   "cell_type": "code",
   "execution_count": 82,
   "id": "2ead4c86",
   "metadata": {},
   "outputs": [],
   "source": [
    "#음수(부호변환)\n",
    "class Neg(Function):\n",
    "    def forward(self, x):\n",
    "        return -x\n",
    "\n",
    "    def backward(self, gy):\n",
    "        return -gy\n",
    "\n",
    "\n",
    "def neg(x):\n",
    "    return Neg()(x)\n",
    "\n",
    "Variable.__neg__ = neg"
   ]
  },
  {
   "cell_type": "code",
   "execution_count": 83,
   "id": "f7afc775",
   "metadata": {},
   "outputs": [
    {
     "name": "stdout",
     "output_type": "stream",
     "text": [
      "variable(-2.0)\n"
     ]
    }
   ],
   "source": [
    "x = Variable(np.array(2.0))\n",
    "y = -x #부호를 바꾼다\n",
    "print(y)"
   ]
  },
  {
   "cell_type": "code",
   "execution_count": 84,
   "id": "6aa3edc1",
   "metadata": {},
   "outputs": [],
   "source": [
    "#뺄셈\n",
    "class Sub(Function): \n",
    "    def forward(self, x0, x1):\n",
    "        y = x0 - x1\n",
    "        return y\n",
    "\n",
    "    def backward(self, gy):\n",
    "        return gy, -gy\n",
    "\n",
    "def sub(x0, x1):\n",
    "    x1 = as_array(x1)\n",
    "    return Sub()(x0, x1)\n",
    "\n",
    "Variable.__sub__ = sub"
   ]
  },
  {
   "cell_type": "code",
   "execution_count": 85,
   "id": "ef9c03f0",
   "metadata": {},
   "outputs": [],
   "source": [
    "def rsub(x0, x1):\n",
    "    x1 = as_array(x1)\n",
    "    return sub(x1, x0)"
   ]
  },
  {
   "cell_type": "code",
   "execution_count": 87,
   "id": "1a28dd26",
   "metadata": {},
   "outputs": [],
   "source": [
    "#나눗셈\n",
    "class Div(Function):\n",
    "    def forward(self, x0, x1):\n",
    "        y = x0 / x1\n",
    "        return y\n",
    "\n",
    "    def backward(self, gy):\n",
    "        x0, x1 = self.inputs[0].data, self.inputs[1].data\n",
    "        gx0 = gy / x1\n",
    "        gx1 = gy * (-x0 / x1 ** 2)\n",
    "        return gx0, gx1"
   ]
  },
  {
   "cell_type": "code",
   "execution_count": 88,
   "id": "be37ebb9",
   "metadata": {},
   "outputs": [],
   "source": [
    "def div(x0, x1):\n",
    "    x1 = as_array(x1)\n",
    "    return Div()(x0, x1)"
   ]
  },
  {
   "cell_type": "code",
   "execution_count": 89,
   "id": "5c0b9758",
   "metadata": {},
   "outputs": [],
   "source": [
    "def rdiv(x0, x1):\n",
    "    x1 = as_array(x1)\n",
    "    return div(x1, x0) #x0와 x1의 순서를 바꾼다."
   ]
  },
  {
   "cell_type": "code",
   "execution_count": 90,
   "id": "196e29ed",
   "metadata": {},
   "outputs": [],
   "source": [
    "Variable.__truediv__ = div\n",
    "Variable.__rtruediv__ = rdiv"
   ]
  },
  {
   "cell_type": "code",
   "execution_count": 91,
   "id": "a4812de3",
   "metadata": {},
   "outputs": [],
   "source": [
    "#거듭제곱\n",
    "class Pow(Function):\n",
    "    def __init__(self, c):\n",
    "        self.c = c\n",
    "\n",
    "    def forward(self, x):\n",
    "        y = x ** self.c\n",
    "        return y\n",
    "\n",
    "    def backward(self, gy):\n",
    "        x = self.inputs[0].data\n",
    "        c = self.c\n",
    "\n",
    "        gx = c * x ** (c - 1) * gy\n",
    "        return gx"
   ]
  },
  {
   "cell_type": "code",
   "execution_count": 92,
   "id": "fd8b1776",
   "metadata": {},
   "outputs": [],
   "source": [
    "def pow(x, c):\n",
    "    return Pow(c)(x)\n",
    "Variable.__pow__ = pow"
   ]
  }
 ],
 "metadata": {
  "kernelspec": {
   "display_name": "Python 3 (ipykernel)",
   "language": "python",
   "name": "python3"
  },
  "language_info": {
   "codemirror_mode": {
    "name": "ipython",
    "version": 3
   },
   "file_extension": ".py",
   "mimetype": "text/x-python",
   "name": "python",
   "nbconvert_exporter": "python",
   "pygments_lexer": "ipython3",
   "version": "3.11.5"
  }
 },
 "nbformat": 4,
 "nbformat_minor": 5
}
